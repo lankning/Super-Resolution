{
 "cells": [
  {
   "cell_type": "code",
   "execution_count": 1,
   "metadata": {},
   "outputs": [],
   "source": [
    "from utils import *\n",
    "import os"
   ]
  },
  {
   "cell_type": "code",
   "execution_count": null,
   "metadata": {},
   "outputs": [],
   "source": [
    "# check the existence of folder\n",
    "dir_list = ['./data','./data/train_data','./data/train_data2x','./data/train_data4x']\n",
    "for folder in dir_list:\n",
    "    if bool(1-os.path.exists(folder)):\n",
    "        os.mkdir(folder)\n",
    "        print(\"No target folder %s, create it.\"%folder)"
   ]
  },
  {
   "cell_type": "code",
   "execution_count": null,
   "metadata": {},
   "outputs": [],
   "source": [
    "# get frames from video with interval of 30 frames\n",
    "getFrame(\"./data/demo.mp4\", \"./data/train_data/\", 1)\n",
    "print(\"getFrame finished.\")"
   ]
  },
  {
   "cell_type": "code",
   "execution_count": null,
   "metadata": {},
   "outputs": [],
   "source": [
    "# get LR pics from HR pics by 1/2\n",
    "blurryList(\"./data/train_data/\",\"./data/train_data2x/\",2)\n",
    "print(\"get 1/2 LR pics finished.\")\n",
    "# get LR pics from HR pics by 1/4\n",
    "blurryList(\"./data/train_data/\",\"./data/train_data4x/\",4)\n",
    "print(\"get 1/4 LR pics finished.\")"
   ]
  },
  {
   "cell_type": "code",
   "execution_count": 2,
   "metadata": {},
   "outputs": [
    {
     "name": "stdout",
     "output_type": "stream",
     "text": [
      "No target folder ./data/cut_data, create it.\n",
      "No target folder ./data/cut_data2x, create it.\n",
      "No target folder ./data/cut_data4x, create it.\n"
     ]
    }
   ],
   "source": [
    "# check the existence of folder\n",
    "dir_list = ['./data','./data/cut_data','./data/cut_data2x','./data/cut_data4x']\n",
    "for folder in dir_list:\n",
    "    if bool(1-os.path.exists(folder)):\n",
    "        os.mkdir(folder)\n",
    "        print(\"No target folder %s, create it.\"%folder)"
   ]
  },
  {
   "cell_type": "code",
   "execution_count": 3,
   "metadata": {},
   "outputs": [
    {
     "name": "stdout",
     "output_type": "stream",
     "text": [
      "get 1/2 cut pics finished.\n"
     ]
    }
   ],
   "source": [
    "# get Cut pics from HR pics\n",
    "CutList(\"./data/train_data/\",\"./data/cut_data/\",5/12,7/12,1/4,3/4)\n",
    "print(\"get 1/2 cut pics finished.\")"
   ]
  },
  {
   "cell_type": "code",
   "execution_count": 4,
   "metadata": {},
   "outputs": [
    {
     "name": "stdout",
     "output_type": "stream",
     "text": [
      "get 1/2 LR pics finished.\n",
      "get 1/4 LR pics finished.\n"
     ]
    }
   ],
   "source": [
    "# get LR pics from HR pics by 1/2\n",
    "blurryList(\"./data/cut_data/\",\"./data/cut_data2x/\",2)\n",
    "print(\"get 1/2 LR pics finished.\")\n",
    "# get LR pics from HR pics by 1/4\n",
    "blurryList(\"./data/cut_data/\",\"./data/cut_data4x/\",4)\n",
    "print(\"get 1/4 LR pics finished.\")"
   ]
  },
  {
   "cell_type": "code",
   "execution_count": null,
   "metadata": {},
   "outputs": [],
   "source": []
  }
 ],
 "metadata": {
  "kernelspec": {
   "display_name": "Python 3",
   "language": "python",
   "name": "python3"
  },
  "language_info": {
   "codemirror_mode": {
    "name": "ipython",
    "version": 3
   },
   "file_extension": ".py",
   "mimetype": "text/x-python",
   "name": "python",
   "nbconvert_exporter": "python",
   "pygments_lexer": "ipython3",
   "version": "3.8.8"
  }
 },
 "nbformat": 4,
 "nbformat_minor": 4
}
