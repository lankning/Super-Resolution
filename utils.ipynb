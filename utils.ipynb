{
 "cells": [
  {
   "cell_type": "code",
   "execution_count": 2,
   "metadata": {},
   "outputs": [],
   "source": [
    "import cv2, math, os\n",
    "from PIL import Image\n",
    "import numpy as np"
   ]
  },
  {
   "cell_type": "code",
   "execution_count": 2,
   "metadata": {},
   "outputs": [],
   "source": [
    "# Function: Get frames from video with interval(gapFrame)\n",
    "def getFrame(videoPath, savePath, gapFrame=1):\n",
    "# this code is original from https://blog.csdn.net/u010555688/article/details/79182362\n",
    "    cap = cv2.VideoCapture(videoPath)\n",
    "    numFrame = 0\n",
    "    while True:\n",
    "        if cap.grab():\n",
    "            flag, frame = cap.retrieve()\n",
    "            if not flag:\n",
    "                continue\n",
    "            else:\n",
    "                # frame = np.rot90(frame)\n",
    "                #cv2.imshow('video', frame)\n",
    "                numFrame += 1\n",
    "                #print(numFrame)\n",
    "                if (numFrame%gapFrame==0):\n",
    "                    newPath = savePath + 'Frame{:04d}.png'.format(numFrame)\n",
    "                    cv2.imencode('.png', frame)[1].tofile(newPath)\n",
    "        else:\n",
    "            break"
   ]
  },
  {
   "cell_type": "code",
   "execution_count": 3,
   "metadata": {},
   "outputs": [],
   "source": [
    "# get LR pics from HR pics by 1/blurryTimes with mode \"select\"\n",
    "def blurryList(imgFolder, svFolder, blurryTimes=4):#, mode=\"select\"\n",
    "    img_list = os.listdir(imgFolder)\n",
    "    for imgName in img_list:\n",
    "        imgPath = os.path.join(imgFolder,imgName)\n",
    "        # blurry(imgPath,svFolder,blurryTimes,mode)\n",
    "        img = cv2.imread(imgPath, cv2.IMREAD_COLOR)\n",
    "        w,h,d = img.shape\n",
    "        img = cv2.resize(img, (h//blurryTimes, w//blurryTimes),interpolation=cv2.INTER_NEAREST)\n",
    "        svpath = os.path.join(svFolder,imgName)\n",
    "        cv2.imwrite(svpath, img)"
   ]
  },
  {
   "cell_type": "code",
   "execution_count": null,
   "metadata": {},
   "outputs": [],
   "source": [
    "def CutList(imgFolder, svFolder,left=1/3,right=2/3,up=1/3,down=2/3):\n",
    "    img_list = os.listdir(imgFolder)\n",
    "    for imgName in img_list:\n",
    "        imgPath = os.path.join(imgFolder,imgName)\n",
    "        # blurry(imgPath,svFolder,blurryTimes,mode)\n",
    "        img = cv2.imread(imgPath, cv2.IMREAD_COLOR)\n",
    "        h,w,_ = np.shape(img)\n",
    "        img = img[int(h*up):int(h*down),int(w*left):int(w*right),:]\n",
    "        svpath = os.path.join(svFolder,imgName)\n",
    "        cv2.imwrite(svpath, img)"
   ]
  },
  {
   "cell_type": "code",
   "execution_count": null,
   "metadata": {},
   "outputs": [],
   "source": []
  }
 ],
 "metadata": {
  "kernelspec": {
   "display_name": "Python 3",
   "language": "python",
   "name": "python3"
  },
  "language_info": {
   "codemirror_mode": {
    "name": "ipython",
    "version": 3
   },
   "file_extension": ".py",
   "mimetype": "text/x-python",
   "name": "python",
   "nbconvert_exporter": "python",
   "pygments_lexer": "ipython3",
   "version": "3.6.13"
  }
 },
 "nbformat": 4,
 "nbformat_minor": 4
}
