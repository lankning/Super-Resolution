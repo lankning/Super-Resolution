{
 "cells": [
  {
   "cell_type": "code",
   "execution_count": 2,
   "metadata": {},
   "outputs": [],
   "source": [
    "import cv2, math, os\n",
    "from PIL import Image\n",
    "import numpy as np\n",
    "import tensorflow as tf"
   ]
  },
  {
   "cell_type": "code",
   "execution_count": 2,
   "metadata": {},
   "outputs": [],
   "source": [
    "# Function: Get frames from video with interval(gapFrame)\n",
    "def getFrame(videoPath, savePath, gapFrame=1):\n",
    "# this code is original from https://blog.csdn.net/u010555688/article/details/79182362\n",
    "    cap = cv2.VideoCapture(videoPath)\n",
    "    numFrame = 0\n",
    "    while True:\n",
    "        if cap.grab():\n",
    "            flag, frame = cap.retrieve()\n",
    "            if not flag:\n",
    "                continue\n",
    "            else:\n",
    "                # frame = np.rot90(frame)\n",
    "                #cv2.imshow('video', frame)\n",
    "                numFrame += 1\n",
    "                #print(numFrame)\n",
    "                if (numFrame%gapFrame==0):\n",
    "                    newPath = savePath + 'Frame{:04d}.png'.format(numFrame)\n",
    "                    cv2.imencode('.png', frame)[1].tofile(newPath)\n",
    "        else:\n",
    "            break"
   ]
  },
  {
   "cell_type": "code",
   "execution_count": 3,
   "metadata": {},
   "outputs": [],
   "source": [
    "# get LR pics from HR pics by 1/blurryTimes with mode \"select\"\n",
    "def blurryList(imgFolder, svFolder, blurryTimes=4):#, mode=\"select\"\n",
    "    img_list = os.listdir(imgFolder)\n",
    "    for imgName in img_list:\n",
    "        imgPath = os.path.join(imgFolder,imgName)\n",
    "        # blurry(imgPath,svFolder,blurryTimes,mode)\n",
    "        img = cv2.imread(imgPath, cv2.IMREAD_COLOR)\n",
    "        w,h,d = img.shape\n",
    "        img = cv2.resize(img, (h//blurryTimes, w//blurryTimes),interpolation=cv2.INTER_NEAREST)\n",
    "        svpath = os.path.join(svFolder,imgName)\n",
    "        cv2.imwrite(svpath, img)"
   ]
  },
  {
   "cell_type": "code",
   "execution_count": null,
   "metadata": {},
   "outputs": [],
   "source": [
    "def CutList(imgFolder, svFolder,left=1/3,right=2/3,up=1/3,down=2/3):\n",
    "    img_list = os.listdir(imgFolder)\n",
    "    for imgName in img_list:\n",
    "        imgPath = os.path.join(imgFolder,imgName)\n",
    "        # blurry(imgPath,svFolder,blurryTimes,mode)\n",
    "        img = cv2.imread(imgPath, cv2.IMREAD_COLOR)\n",
    "        h,w,_ = np.shape(img)\n",
    "        img = img[int(h*up):int(h*down),int(w*left):int(w*right),:]\n",
    "        svpath = os.path.join(svFolder,imgName)\n",
    "        cv2.imwrite(svpath, img)"
   ]
  },
  {
   "cell_type": "code",
   "execution_count": 4,
   "metadata": {},
   "outputs": [],
   "source": [
    "# Function: Get all images from specified dir, return [None,?,?,3]\n",
    "def load_images(toreadPath,split=4):\n",
    "    imgList = []\n",
    "    file_list = os.listdir(toreadPath)\n",
    "    file_list.sort(key=lambda x:int(x[:-split]))#倒着数第四位'.'为分界线，按照‘.’左边的数字从小到大排序\n",
    "    # print(file_list)\n",
    "    for imgName in file_list:\n",
    "        imgPath = os.path.join(toreadPath,imgName)\n",
    "        img = Image.open(imgPath)\n",
    "        img_arr = np.array(img)\n",
    "        imgList.append(img_arr)\n",
    "    return np.array(imgList)"
   ]
  },
  {
   "cell_type": "code",
   "execution_count": 5,
   "metadata": {},
   "outputs": [],
   "source": [
    "def BiCubicList(imgdata,k):\n",
    "    num,a,b,c = imgdata.shape\n",
    "    bigImgs = np.zeros((num,k*a,k*b,c))\n",
    "    for i in range(num):\n",
    "        # For efficiency, we use Pillow.Image.BICUBIC() method\n",
    "        rgb = Image.fromarray(np.uint8(imgdata[i,...]),\"RGB\")\n",
    "        rgb = rgb.resize((b*k,a*k), Image.BICUBIC)\n",
    "        bigImgs[i,...] = np.array(rgb)\n",
    "    return bigImgs"
   ]
  },
  {
   "cell_type": "code",
   "execution_count": 6,
   "metadata": {},
   "outputs": [],
   "source": [
    "# Function: Get all images from specified dir, return [None,?,?,3]\n",
    "def load_images_bybicubic(toreadPath,k=2,split=4):\n",
    "    imgList = []\n",
    "    file_list = os.listdir(toreadPath)\n",
    "    file_list.sort(key=lambda x:int(x[:-split]))#倒着数第四位'.'为分界线，按照‘.’左边的数字从小到大排序\n",
    "    # print(file_list)\n",
    "    for imgName in file_list:\n",
    "        imgPath = os.path.join(toreadPath,imgName)\n",
    "        img = Image.open(imgPath)\n",
    "        img_arr = np.array(img)\n",
    "        a,b,c = img_arr.shape\n",
    "        rgb = Image.fromarray(np.uint8(img_arr),\"RGB\")\n",
    "        rgb = rgb.resize((b*k,a*k), Image.BICUBIC)\n",
    "        img_arr = np.array(rgb)\n",
    "        imgList.append(img_arr)\n",
    "    return np.float32(np.array(imgList))"
   ]
  },
  {
   "cell_type": "code",
   "execution_count": 7,
   "metadata": {},
   "outputs": [],
   "source": [
    "def loadimgs_from_paths(x_paths,y_paths):\n",
    "    xList=[]\n",
    "    for x_path in x_paths:\n",
    "        img = Image.open(x_path)\n",
    "        img_arr = np.array(img)\n",
    "        xList.append(img_arr)\n",
    "    yList=[]\n",
    "    for y_path in y_paths:\n",
    "        img = Image.open(y_path)\n",
    "        img_arr = np.array(img)\n",
    "        yList.append(img_arr)\n",
    "    return np.array(xList),np.array(yList)"
   ]
  },
  {
   "cell_type": "code",
   "execution_count": 8,
   "metadata": {},
   "outputs": [],
   "source": [
    "def images_to_video(imgpath,svpath,videoname=\"demo\",fps=60):\n",
    "    img_array = []\n",
    "    file_list = os.listdir(imgpath)\n",
    "    file_num = len(file_list)\n",
    "    for i in range(file_num):\n",
    "        filename = os.path.join(imgpath,str(i+1))+\".jpg\"\n",
    "        print(filename)\n",
    "        img = cv2.imread(filename)\n",
    "        if img is None:\n",
    "            print(filename + \" is error!\")\n",
    "            continue\n",
    "        img_array.append(img)\n",
    "\n",
    "    out = cv2.VideoWriter(os.path.join(svpath,'%s.avi'%videoname), cv2.VideoWriter_fourcc('X','V','I','D'), fps, (img.shape[1],img.shape[0]))\n",
    " \n",
    "    for i in range(len(img_array)):\n",
    "        out.write(img_array[i])\n",
    "    out.release()"
   ]
  },
  {
   "cell_type": "code",
   "execution_count": 9,
   "metadata": {},
   "outputs": [],
   "source": [
    "class PixelShuffler(tf.keras.layers.Layer):\n",
    "    def __init__(self, target_shape, **kwargs):\n",
    "        super(PixelShuffler, self).__init__(**kwargs)\n",
    "        self.target_shape = tuple(target_shape)\n",
    "        print(\"init succeed.\")\n",
    "    \n",
    "    def build(self,input_shape):\n",
    "        # self.inshape = input_shape\n",
    "        print(\"build succeed.\")\n",
    "\n",
    "    def call(self, inputs,color=True):\n",
    "        bsize,inh,inw,ind = inputs.shape\n",
    "        if bsize is None:\n",
    "                bsize = -1\n",
    "        h,w,d = self.target_shape\n",
    "        if ((h%inh!=0) or (w%inw!=0) or (ind%d!=0) or ((h/inh)!=(w/inw)) or ((h/inh)*(w/inw)!=(ind/d))):\n",
    "            raise Exception(\"Error! The shape of input and target is not corresponded.\")\n",
    "        r = int(h/inh)\n",
    "        result = []\n",
    "        if color:\n",
    "            Xc = tf.split(inputs, 3, 3)\n",
    "            for x in Xc:\n",
    "                X = tf.reshape(x, (bsize, inh, inw, r, r))\n",
    "                X = tf.transpose(X, (0, 1, 2, 4, 3))  # bsize, a, b, 1, 1\n",
    "                X = tf.split(X, inh, 1)  # a, [bsize, b, r, r]\n",
    "                X = tf.concat([tf.squeeze(x) for x in X],2)  # bsize, b, a*r, r\n",
    "                X = tf.split(X, inw, 1)  # b, [bsize, a*r, r]\n",
    "                X = tf.concat([tf.squeeze(x) for x in X],2)  # bsize, a*r, b*r\n",
    "                X = tf.reshape(X, (bsize, inh*r, inw*r, 1))\n",
    "                result.append(X)\n",
    "            X = tf.concat(result,3)\n",
    "        else:\n",
    "            X = tf.reshape(inputs, (bsize, inh, inw, r, r))\n",
    "            X = tf.transpose(X, (0, 1, 2, 4, 3))  # bsize, a, b, 1, 1\n",
    "            X = tf.split(X, 1, inh)  # a, [bsize, b, r, r]\n",
    "            X = tf.concat([tf.squeeze(x) for x in X],2)  # bsize, b, a*r, r\n",
    "            X = tf.split(X, 1, inw)  # b, [bsize, a*r, r]\n",
    "            X = tf.concat([tf.squeeze(x) for x in X],2)  # bsize, a*r, b*r\n",
    "            X = tf.reshape(X, (bsize, inh*r, inw*r, 1))\n",
    "            X = tf.concat(result,3)\n",
    "        print(\"PixelShuffle Finished.\")\n",
    "        return X"
   ]
  },
  {
   "cell_type": "code",
   "execution_count": null,
   "metadata": {},
   "outputs": [],
   "source": []
  }
 ],
 "metadata": {
  "kernelspec": {
   "display_name": "Python 3",
   "language": "python",
   "name": "python3"
  },
  "language_info": {
   "codemirror_mode": {
    "name": "ipython",
    "version": 3
   },
   "file_extension": ".py",
   "mimetype": "text/x-python",
   "name": "python",
   "nbconvert_exporter": "python",
   "pygments_lexer": "ipython3",
   "version": "3.7.10"
  }
 },
 "nbformat": 4,
 "nbformat_minor": 4
}
