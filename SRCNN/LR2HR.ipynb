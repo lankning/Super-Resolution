{
 "cells": [
  {
   "cell_type": "code",
   "execution_count": null,
   "id": "b2be6928",
   "metadata": {},
   "outputs": [],
   "source": [
    "from utils import *\n",
    "import tensorflow as tf\n",
    "import os, cv2\n",
    "import numpy as np\n",
    "from PIL import Image"
   ]
  },
  {
   "cell_type": "code",
   "execution_count": null,
   "id": "e2569d94",
   "metadata": {},
   "outputs": [],
   "source": [
    "gpus = tf.config.experimental.list_physical_devices(device_type='GPU')\n",
    "for gpu in gpus:\n",
    "    tf.config.experimental.set_memory_growth(gpu, True)"
   ]
  },
  {
   "cell_type": "code",
   "execution_count": null,
   "id": "d5b8c143",
   "metadata": {},
   "outputs": [],
   "source": [
    "temp_dir = \"./temp/\""
   ]
  },
  {
   "cell_type": "code",
   "execution_count": null,
   "id": "a6a31287",
   "metadata": {},
   "outputs": [],
   "source": [
    "if bool(1-os.path.exists(temp_dir)):\n",
    "    os.mkdir(temp_dir)\n",
    "    print(\"temp_dir not exists, create one.\")\n",
    "getFrame(\"../data/demo.mp4\", temp_dir, 1)\n",
    "print(\"getFrame finished.\")\n",
    "blurryList(temp_dir,temp_dir,2)\n",
    "print(\"get LR pics finished.\")"
   ]
  },
  {
   "cell_type": "code",
   "execution_count": null,
   "id": "80933199",
   "metadata": {},
   "outputs": [],
   "source": [
    "images_to_video(temp_dir,\"./\",\"LR_demo\",20)"
   ]
  },
  {
   "cell_type": "code",
   "execution_count": null,
   "id": "c87ed334",
   "metadata": {},
   "outputs": [],
   "source": [
    "def customized_loss(y_true, y_pred):\n",
    "    return tf.reduce_sum(tf.reduce_mean(tf.square(y_pred - y_true)))\n",
    "model = tf.keras.models.load_model(\"./model/SRCNN.h5\",custom_objects={\"customized_loss\":customized_loss})"
   ]
  },
  {
   "cell_type": "code",
   "execution_count": null,
   "id": "db6e019b",
   "metadata": {},
   "outputs": [],
   "source": [
    "lr_data = load_images(temp_dir)\n",
    "print(lr_data.shape)"
   ]
  },
  {
   "cell_type": "code",
   "execution_count": null,
   "id": "1677ce4b",
   "metadata": {
    "scrolled": true
   },
   "outputs": [],
   "source": [
    "for i in range(len(lr_data)):\n",
    "    hr_img = model.predict(BiCubicList(lr_data[i:i+1],4))[0]\n",
    "    img = Image.fromarray(np.uint8(hr_img),\"RGB\")\n",
    "    img.save(os.path.join(temp_dir,\"%d.jpg\"%(i+1)))\n",
    "    # print(\"save %d\" % i)"
   ]
  },
  {
   "cell_type": "code",
   "execution_count": null,
   "id": "5b9cb5c3",
   "metadata": {
    "scrolled": true
   },
   "outputs": [],
   "source": [
    "images_to_video(temp_dir,\"./\",\"HR_by_Net\",20)"
   ]
  },
  {
   "cell_type": "code",
   "execution_count": null,
   "id": "86091058",
   "metadata": {},
   "outputs": [],
   "source": [
    "import shutil\n",
    "shutil.rmtree(temp_dir)"
   ]
  },
  {
   "cell_type": "code",
   "execution_count": null,
   "id": "dd237f0c",
   "metadata": {},
   "outputs": [],
   "source": []
  }
 ],
 "metadata": {
  "kernelspec": {
   "display_name": "Python 3",
   "language": "python",
   "name": "python3"
  },
  "language_info": {
   "codemirror_mode": {
    "name": "ipython",
    "version": 3
   },
   "file_extension": ".py",
   "mimetype": "text/x-python",
   "name": "python",
   "nbconvert_exporter": "python",
   "pygments_lexer": "ipython3",
   "version": "3.7.10"
  }
 },
 "nbformat": 4,
 "nbformat_minor": 5
}
