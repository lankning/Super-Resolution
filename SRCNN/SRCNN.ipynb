{
 "cells": [
  {
   "cell_type": "code",
   "execution_count": 1,
   "id": "498af49d",
   "metadata": {},
   "outputs": [],
   "source": [
    "import tensorflow as tf\n",
    "from PIL import Image\n",
    "import numpy as np\n",
    "from utils import load_images, loadimgs_from_paths, BiCubicList\n",
    "import matplotlib.pyplot as plt\n",
    "import os, random"
   ]
  },
  {
   "cell_type": "code",
   "execution_count": 2,
   "id": "4308a1c8",
   "metadata": {},
   "outputs": [
    {
     "name": "stdout",
     "output_type": "stream",
     "text": [
      "find gpus: []\n"
     ]
    }
   ],
   "source": [
    "gpus = tf.config.experimental.list_physical_devices(device_type='GPU')\n",
    "print(\"find gpus:\",gpus)\n",
    "for gpu in gpus:\n",
    "    tf.config.experimental.set_memory_growth(gpu, True)"
   ]
  },
  {
   "cell_type": "markdown",
   "id": "1d292cbb",
   "metadata": {},
   "source": [
    "![srcnn-stru](./static/srcnn-stru.png)"
   ]
  },
  {
   "cell_type": "code",
   "execution_count": 3,
   "id": "b3fd7553",
   "metadata": {},
   "outputs": [],
   "source": [
    "model = tf.keras.Sequential()\n",
    "model.add(tf.keras.layers.Conv2D(64, 9, activation='relu', padding=\"same\", input_shape=(720, 1280, 3)))\n",
    "model.add(tf.keras.layers.Conv2D(32, 1, activation='relu', padding=\"same\"))\n",
    "model.add(tf.keras.layers.Conv2D(3, 5, activation='relu', padding=\"same\"))"
   ]
  },
  {
   "cell_type": "code",
   "execution_count": 4,
   "id": "30445b7f",
   "metadata": {},
   "outputs": [
    {
     "name": "stdout",
     "output_type": "stream",
     "text": [
      "Model: \"sequential\"\n",
      "_________________________________________________________________\n",
      "Layer (type)                 Output Shape              Param #   \n",
      "=================================================================\n",
      "conv2d (Conv2D)              (None, 720, 1280, 64)     15616     \n",
      "_________________________________________________________________\n",
      "conv2d_1 (Conv2D)            (None, 720, 1280, 32)     2080      \n",
      "_________________________________________________________________\n",
      "conv2d_2 (Conv2D)            (None, 720, 1280, 3)      2403      \n",
      "=================================================================\n",
      "Total params: 20,099\n",
      "Trainable params: 20,099\n",
      "Non-trainable params: 0\n",
      "_________________________________________________________________\n",
      "None\n"
     ]
    }
   ],
   "source": [
    "print(model.summary())"
   ]
  },
  {
   "cell_type": "code",
   "execution_count": 5,
   "id": "ebc4bff5",
   "metadata": {},
   "outputs": [],
   "source": [
    "def customized_loss(y_true, y_pred):\n",
    "    return tf.reduce_sum(tf.reduce_mean(tf.square(y_pred - y_true)))\n",
    "\n",
    "model.compile(optimizer='adam',\n",
    "              loss=customized_loss,\n",
    "              metrics=['accuracy'])"
   ]
  },
  {
   "cell_type": "code",
   "execution_count": 6,
   "id": "b16d3cbf",
   "metadata": {},
   "outputs": [],
   "source": [
    "def generate_data(inpath,outpath,batch_size,reshuffle_each_iteration=False):\n",
    "    # read and sort train data from dir\n",
    "    x_train_lr_list = os.listdir(inpath)\n",
    "    x_train_lr_list.sort(key=lambda x:int(x[:-4]))#倒着数第四位'.'为分界线，按照‘.’左边的数字从小到大排序\n",
    "    x_train_lr_list = [os.path.join(inpath,c) for c in x_train_lr_list]\n",
    "    y_train_list = os.listdir(outpath)\n",
    "    y_train_list.sort(key=lambda x:int(x[:-4]))\n",
    "    y_train_list = [os.path.join(outpath,c) for c in y_train_list]\n",
    "    i = 0\n",
    "    while True:\n",
    "        x_train_lr, y_train = loadimgs_from_paths(\n",
    "            x_train_lr_list[i*batch_size:(i+1)*batch_size], y_train_list[i*batch_size:(i+1)*batch_size])\n",
    "        x_train = BiCubicList(x_train_lr,2)\n",
    "        yield np.float32(x_train), np.float32(y_train)\n",
    "        i = (i+1) % (len(x_train_lr_list) // batch_size)\n",
    "        # print(len(x_train_lr_list) // batch_size)\n",
    "        if reshuffle_each_iteration:\n",
    "            if i == 0:\n",
    "                paths = list(zip(x_train_lr_list, y_train_list))\n",
    "                random.shuffle(paths)\n",
    "                x_train_lr_list, y_train_list = zip(*paths)"
   ]
  },
  {
   "cell_type": "code",
   "execution_count": 7,
   "id": "e8d04aea",
   "metadata": {
    "scrolled": true
   },
   "outputs": [
    {
     "name": "stdout",
     "output_type": "stream",
     "text": [
      "Epoch 1/50\n",
      "101/101 [==============================] - 17s 165ms/step - loss: 1130.3947 - accuracy: 0.6774\n",
      "Epoch 2/50\n",
      "101/101 [==============================] - 17s 164ms/step - loss: 130.6397 - accuracy: 0.8963\n",
      "Epoch 3/50\n",
      "101/101 [==============================] - 16s 161ms/step - loss: 94.6896 - accuracy: 0.9357\n",
      "Epoch 4/50\n",
      "101/101 [==============================] - 16s 159ms/step - loss: 83.5645 - accuracy: 0.9230\n",
      "Epoch 5/50\n",
      "101/101 [==============================] - 16s 163ms/step - loss: 57.4080 - accuracy: 0.9357\n",
      "Epoch 6/50\n",
      "101/101 [==============================] - 16s 161ms/step - loss: 51.0385 - accuracy: 0.9427\n",
      "Epoch 7/50\n",
      "101/101 [==============================] - 16s 160ms/step - loss: 57.3660 - accuracy: 0.9249\n",
      "Epoch 8/50\n",
      "101/101 [==============================] - 16s 157ms/step - loss: 165.4138 - accuracy: 0.9156\n",
      "Epoch 9/50\n",
      "101/101 [==============================] - 16s 157ms/step - loss: 116.0922 - accuracy: 0.8874\n",
      "Epoch 10/50\n",
      "101/101 [==============================] - 16s 157ms/step - loss: 48.8010 - accuracy: 0.9487\n",
      "Epoch 11/50\n",
      "101/101 [==============================] - 16s 157ms/step - loss: 44.4989 - accuracy: 0.9509\n",
      "Epoch 12/50\n",
      "101/101 [==============================] - 16s 157ms/step - loss: 42.1889 - accuracy: 0.9510\n",
      "Epoch 13/50\n",
      "101/101 [==============================] - 16s 157ms/step - loss: 40.3986 - accuracy: 0.9517\n",
      "Epoch 14/50\n",
      "101/101 [==============================] - 16s 157ms/step - loss: 40.9076 - accuracy: 0.9487\n",
      "Epoch 15/50\n",
      "101/101 [==============================] - 16s 157ms/step - loss: 37.9146 - accuracy: 0.9528\n",
      "Epoch 16/50\n",
      "101/101 [==============================] - 16s 160ms/step - loss: 55.4030 - accuracy: 0.9444\n",
      "Epoch 17/50\n",
      "101/101 [==============================] - 17s 165ms/step - loss: 38.7820 - accuracy: 0.9502\n",
      "Epoch 18/50\n",
      "101/101 [==============================] - 17s 164ms/step - loss: 36.0828 - accuracy: 0.9496\n",
      "Epoch 19/50\n",
      "101/101 [==============================] - 17s 164ms/step - loss: 35.5752 - accuracy: 0.9517\n",
      "Epoch 20/50\n",
      "101/101 [==============================] - 17s 164ms/step - loss: 34.3549 - accuracy: 0.9539\n",
      "Epoch 21/50\n",
      "101/101 [==============================] - 17s 165ms/step - loss: 34.9718 - accuracy: 0.9514\n",
      "Epoch 22/50\n",
      "101/101 [==============================] - 17s 164ms/step - loss: 41.6452 - accuracy: 0.9386\n",
      "Epoch 23/50\n",
      "101/101 [==============================] - 16s 163ms/step - loss: 47.4534 - accuracy: 0.9285\n",
      "Epoch 24/50\n",
      "101/101 [==============================] - 16s 161ms/step - loss: 34.0777 - accuracy: 0.9530\n",
      "Epoch 25/50\n",
      "101/101 [==============================] - 16s 162ms/step - loss: 33.2784 - accuracy: 0.9506\n",
      "Epoch 26/50\n",
      "101/101 [==============================] - 17s 165ms/step - loss: 33.6342 - accuracy: 0.9514\n",
      "Epoch 27/50\n",
      "101/101 [==============================] - 17s 172ms/step - loss: 34.0986 - accuracy: 0.9527\n",
      "Epoch 28/50\n",
      "101/101 [==============================] - 17s 172ms/step - loss: 32.5555 - accuracy: 0.9525\n",
      "Epoch 29/50\n",
      "101/101 [==============================] - 17s 168ms/step - loss: 32.3832 - accuracy: 0.9479\n",
      "Epoch 30/50\n",
      "101/101 [==============================] - 16s 157ms/step - loss: 74.3332 - accuracy: 0.9126\n",
      "Epoch 31/50\n",
      "101/101 [==============================] - 16s 157ms/step - loss: 35.6495 - accuracy: 0.9499\n",
      "Epoch 32/50\n",
      "101/101 [==============================] - 16s 156ms/step - loss: 144.5457 - accuracy: 0.8943\n",
      "Epoch 33/50\n",
      "101/101 [==============================] - 16s 156ms/step - loss: 61.1947 - accuracy: 0.9154\n",
      "Epoch 34/50\n",
      "101/101 [==============================] - 16s 157ms/step - loss: 38.7216 - accuracy: 0.9504\n",
      "Epoch 35/50\n",
      "101/101 [==============================] - 16s 156ms/step - loss: 35.8187 - accuracy: 0.9536\n",
      "Epoch 36/50\n",
      "101/101 [==============================] - 16s 157ms/step - loss: 34.4187 - accuracy: 0.9543\n",
      "Epoch 37/50\n",
      "101/101 [==============================] - 16s 157ms/step - loss: 34.4384 - accuracy: 0.9498\n",
      "Epoch 38/50\n",
      "101/101 [==============================] - 16s 157ms/step - loss: 36.8839 - accuracy: 0.9413\n",
      "Epoch 39/50\n",
      "101/101 [==============================] - 16s 157ms/step - loss: 34.1266 - accuracy: 0.9499\n",
      "Epoch 40/50\n",
      "101/101 [==============================] - 16s 157ms/step - loss: 32.5669 - accuracy: 0.9533\n",
      "Epoch 41/50\n",
      "101/101 [==============================] - 16s 157ms/step - loss: 33.1840 - accuracy: 0.9481\n",
      "Epoch 42/50\n",
      "101/101 [==============================] - 16s 157ms/step - loss: 40.3793 - accuracy: 0.9313\n",
      "Epoch 43/50\n",
      "101/101 [==============================] - 16s 157ms/step - loss: 32.0038 - accuracy: 0.9524\n",
      "Epoch 44/50\n",
      "101/101 [==============================] - 16s 157ms/step - loss: 31.2368 - accuracy: 0.9550\n",
      "Epoch 45/50\n",
      "101/101 [==============================] - 16s 157ms/step - loss: 31.5629 - accuracy: 0.9543\n",
      "Epoch 46/50\n",
      "101/101 [==============================] - 16s 157ms/step - loss: 34.7051 - accuracy: 0.9494\n",
      "Epoch 47/50\n",
      "101/101 [==============================] - 16s 157ms/step - loss: 31.3840 - accuracy: 0.9525\n",
      "Epoch 48/50\n",
      "101/101 [==============================] - 16s 157ms/step - loss: 63.4770 - accuracy: 0.9068\n",
      "Epoch 49/50\n",
      "101/101 [==============================] - 16s 157ms/step - loss: 42.5122 - accuracy: 0.9425\n",
      "Epoch 50/50\n",
      "101/101 [==============================] - 16s 157ms/step - loss: 32.7185 - accuracy: 0.9546\n"
     ]
    }
   ],
   "source": [
    "history = model.fit(generate_data(\"../data/train_data2x\",\"../data/train_data\",2,True),steps_per_epoch=101, epochs=50, verbose=1)"
   ]
  },
  {
   "cell_type": "code",
   "execution_count": 8,
   "id": "7521414e",
   "metadata": {},
   "outputs": [
    {
     "data": {
      "image/png": "[encoded data removed]",
      "text/plain": [
       "<Figure size 432x288 with 1 Axes>"
      ]
     },
     "metadata": {
      "needs_background": "light"
     },
     "output_type": "display_data"
    },
    {
     "data": {
      "image/png": "[encoded data removed]",
      "text/plain": [
       "<Figure size 432x288 with 1 Axes>"
      ]
     },
     "metadata": {
      "needs_background": "light"
     },
     "output_type": "display_data"
    }
   ],
   "source": [
    "# Visualization\n",
    "epochs = 50\n",
    "l = np.array(history.history['loss'])\n",
    "a = np.array(history.history['accuracy'])\n",
    "step = np.linspace(1,epochs,epochs)\n",
    "plt.plot(step,l,label=\"Train Loss\")\n",
    "plt.legend(loc='upper right')\n",
    "plt.title('epoch-loss')\n",
    "plt.xlim((0, epochs))\n",
    "plt.gca().set_ylim(bottom=0)\n",
    "plt.xlabel('epoch')\n",
    "plt.ylabel('loss')\n",
    "plt.savefig('./static/train-loss.png', bbox_inches='tight')\n",
    "plt.show()\n",
    "plt.plot(step,a,label=\"Train Acc\")\n",
    "plt.legend(loc='lower right')\n",
    "plt.title('epoch-acc')\n",
    "plt.xlim((0, epochs))\n",
    "plt.ylim((0.75, 1))\n",
    "plt.xlabel('epoch')\n",
    "plt.ylabel('acc')\n",
    "plt.savefig('./static/train-acc.png', bbox_inches='tight')\n",
    "plt.show()"
   ]
  },
  {
   "cell_type": "code",
   "execution_count": 9,
   "id": "881bbad0",
   "metadata": {},
   "outputs": [],
   "source": [
    "model.save(\"./model/SRCNN.h5\")"
   ]
  },
  {
   "cell_type": "code",
   "execution_count": null,
   "id": "e3b94c4e",
   "metadata": {},
   "outputs": [],
   "source": []
  }
 ],
 "metadata": {
  "kernelspec": {
   "display_name": "Python 3",
   "language": "python",
   "name": "python3"
  },
  "language_info": {
   "codemirror_mode": {
    "name": "ipython",
    "version": 3
   },
   "file_extension": ".py",
   "mimetype": "text/x-python",
   "name": "python",
   "nbconvert_exporter": "python",
   "pygments_lexer": "ipython3",
   "version": "3.8.8"
  }
 },
 "nbformat": 4,
 "nbformat_minor": 5
}
