{
 "cells": [
  {
   "cell_type": "code",
   "execution_count": 1,
   "id": "498af49d",
   "metadata": {},
   "outputs": [],
   "source": [
    "import tensorflow as tf\n",
    "from PIL import Image\n",
    "import numpy as np\n",
    "from utils import load_images, loadimgs_from_paths, BiCubicList\n",
    "import matplotlib.pyplot as plt\n",
    "import os, random"
   ]
  },
  {
   "cell_type": "code",
   "execution_count": 2,
   "id": "4308a1c8",
   "metadata": {},
   "outputs": [],
   "source": [
    "gpus = tf.config.experimental.list_physical_devices(device_type='GPU')\n",
    "for gpu in gpus:\n",
    "    tf.config.experimental.set_memory_growth(gpu, True)"
   ]
  },
  {
   "cell_type": "markdown",
   "id": "1d292cbb",
   "metadata": {},
   "source": [
    "<div align=center>\n",
    "    <b>Fig2. FSRCNN与SRCNN的对比</b><br>\n",
    "    <img src=\"static/comparison.png\" width=\"80%\" alt=\"FSRCNN与SRCNN的对比\"><br>\n",
    "</div>"
   ]
  },
  {
   "cell_type": "markdown",
   "id": "63f71cdc",
   "metadata": {},
   "source": [
    "<div align=center>\n",
    "    <b>Fig4. FSRCNN架构</b><br>\n",
    "    <img src=\"static/stru.png\" width=\"80%\" alt=\"FSRCNN架构\">\n",
    "</div>"
   ]
  },
  {
   "cell_type": "code",
   "execution_count": 3,
   "id": "b3fd7553",
   "metadata": {},
   "outputs": [],
   "source": [
    "model = tf.keras.Sequential()\n",
    "# Feature extracting\n",
    "model.add(tf.keras.layers.Conv2D(64, 5, activation='relu', padding=\"same\", input_shape=(360, 640, 3)))\n",
    "assert model.output_shape == (None, 360, 640, 64)\n",
    "# Shrinking\n",
    "model.add(tf.keras.layers.Conv2D(32, 1, activation='relu', padding=\"same\"))\n",
    "assert model.output_shape == (None, 360, 640, 32)\n",
    "# Mapping\n",
    "model.add(tf.keras.layers.Conv2D(32, 3, activation='relu', padding=\"same\"))\n",
    "assert model.output_shape == (None, 360, 640, 32)\n",
    "# Expanding\n",
    "model.add(tf.keras.layers.Conv2D(64, 1, activation='relu', padding=\"same\"))\n",
    "assert model.output_shape == (None, 360, 640, 64)\n",
    "model.add(tf.keras.layers.Conv2DTranspose(3, (5, 5), strides=(2, 2), padding='same', use_bias=False))\n",
    "assert model.output_shape == (None, 720, 1280, 3)"
   ]
  },
  {
   "cell_type": "code",
   "execution_count": 4,
   "id": "30445b7f",
   "metadata": {},
   "outputs": [
    {
     "name": "stdout",
     "output_type": "stream",
     "text": [
      "Model: \"sequential\"\n",
      "_________________________________________________________________\n",
      "Layer (type)                 Output Shape              Param #   \n",
      "=================================================================\n",
      "conv2d (Conv2D)              (None, 360, 640, 64)      4864      \n",
      "_________________________________________________________________\n",
      "conv2d_1 (Conv2D)            (None, 360, 640, 32)      2080      \n",
      "_________________________________________________________________\n",
      "conv2d_2 (Conv2D)            (None, 360, 640, 32)      9248      \n",
      "_________________________________________________________________\n",
      "conv2d_3 (Conv2D)            (None, 360, 640, 64)      2112      \n",
      "_________________________________________________________________\n",
      "conv2d_transpose (Conv2DTran (None, 720, 1280, 3)      4800      \n",
      "=================================================================\n",
      "Total params: 23,104\n",
      "Trainable params: 23,104\n",
      "Non-trainable params: 0\n",
      "_________________________________________________________________\n",
      "None\n"
     ]
    }
   ],
   "source": [
    "print(model.summary())"
   ]
  },
  {
   "cell_type": "code",
   "execution_count": 5,
   "id": "ebc4bff5",
   "metadata": {},
   "outputs": [],
   "source": [
    "def customized_loss(y_true, y_pred):\n",
    "    return tf.reduce_sum(tf.reduce_mean(tf.square(y_pred - y_true)))\n",
    "\n",
    "model.compile(optimizer='adam',\n",
    "              loss=customized_loss,\n",
    "              metrics=['accuracy'])"
   ]
  },
  {
   "cell_type": "code",
   "execution_count": 6,
   "id": "b16d3cbf",
   "metadata": {},
   "outputs": [],
   "source": [
    "def generate_data(inpath,outpath,batch_size,reshuffle_each_iteration=False):\n",
    "    # read and sort train data from dir\n",
    "    x_train_lr_list = os.listdir(inpath)\n",
    "    x_train_lr_list.sort(key=lambda x:int(x[:-4]))#倒着数第四位'.'为分界线，按照‘.’左边的数字从小到大排序\n",
    "    x_train_lr_list = [os.path.join(inpath,c) for c in x_train_lr_list]\n",
    "    y_train_list = os.listdir(outpath)\n",
    "    y_train_list.sort(key=lambda x:int(x[:-4]))\n",
    "    y_train_list = [os.path.join(outpath,c) for c in y_train_list]\n",
    "    i = 0\n",
    "    while True:\n",
    "        x_train_lr, y_train = loadimgs_from_paths(\n",
    "            x_train_lr_list[i*batch_size:(i+1)*batch_size], y_train_list[i*batch_size:(i+1)*batch_size])\n",
    "        yield np.float32(x_train_lr), np.float32(y_train)\n",
    "        i = (i+1) % (len(x_train_lr_list) // batch_size)\n",
    "        # print(len(x_train_lr_list) // batch_size)\n",
    "        if reshuffle_each_iteration:\n",
    "            if i == 0:\n",
    "                paths = list(zip(x_train_lr_list, y_train_list))\n",
    "                random.shuffle(paths)\n",
    "                x_train_lr_list, y_train_list = zip(*paths)"
   ]
  },
  {
   "cell_type": "code",
   "execution_count": 7,
   "id": "e8d04aea",
   "metadata": {
    "scrolled": true
   },
   "outputs": [
    {
     "name": "stdout",
     "output_type": "stream",
     "text": [
      "Epoch 1/50\n",
      "101/101 [==============================] - 5s 53ms/step - loss: 996.1125 - accuracy: 0.7157\n",
      "Epoch 2/50\n",
      "101/101 [==============================] - 5s 54ms/step - loss: 163.1251 - accuracy: 0.8616\n",
      "Epoch 3/50\n",
      "101/101 [==============================] - 6s 55ms/step - loss: 100.6889 - accuracy: 0.8852\n",
      "Epoch 4/50\n",
      "101/101 [==============================] - 6s 55ms/step - loss: 58.3280 - accuracy: 0.9274\n",
      "Epoch 5/50\n",
      "101/101 [==============================] - 6s 55ms/step - loss: 46.6645 - accuracy: 0.9405\n",
      "Epoch 6/50\n",
      "101/101 [==============================] - 6s 56ms/step - loss: 50.1698 - accuracy: 0.9203\n",
      "Epoch 7/50\n",
      "101/101 [==============================] - 6s 56ms/step - loss: 41.7990 - accuracy: 0.9364\n",
      "Epoch 8/50\n",
      "101/101 [==============================] - 6s 56ms/step - loss: 38.5695 - accuracy: 0.9467\n",
      "Epoch 9/50\n",
      "101/101 [==============================] - 6s 57ms/step - loss: 39.7318 - accuracy: 0.9402\n",
      "Epoch 10/50\n",
      "101/101 [==============================] - 6s 62ms/step - loss: 34.7078 - accuracy: 0.9497\n",
      "Epoch 11/50\n",
      "101/101 [==============================] - 6s 63ms/step - loss: 36.5438 - accuracy: 0.9479\n",
      "Epoch 12/50\n",
      "101/101 [==============================] - 6s 63ms/step - loss: 35.4380 - accuracy: 0.9386\n",
      "Epoch 13/50\n",
      "101/101 [==============================] - 6s 58ms/step - loss: 40.6062 - accuracy: 0.9370\n",
      "Epoch 14/50\n",
      "101/101 [==============================] - 6s 56ms/step - loss: 42.7849 - accuracy: 0.9341\n",
      "Epoch 15/50\n",
      "101/101 [==============================] - 6s 56ms/step - loss: 31.4113 - accuracy: 0.9513\n",
      "Epoch 16/50\n",
      "101/101 [==============================] - 6s 56ms/step - loss: 30.7661 - accuracy: 0.9525\n",
      "Epoch 17/50\n",
      "101/101 [==============================] - 6s 56ms/step - loss: 49.1792 - accuracy: 0.9171\n",
      "Epoch 18/50\n",
      "101/101 [==============================] - 6s 56ms/step - loss: 35.8588 - accuracy: 0.9452\n",
      "Epoch 19/50\n",
      "101/101 [==============================] - 6s 56ms/step - loss: 30.2981 - accuracy: 0.9513\n",
      "Epoch 20/50\n",
      "101/101 [==============================] - 6s 56ms/step - loss: 39.3388 - accuracy: 0.9503\n",
      "Epoch 21/50\n",
      "101/101 [==============================] - 6s 56ms/step - loss: 30.4518 - accuracy: 0.9513\n",
      "Epoch 22/50\n",
      "101/101 [==============================] - 6s 56ms/step - loss: 28.5942 - accuracy: 0.9523\n",
      "Epoch 23/50\n",
      "101/101 [==============================] - 6s 56ms/step - loss: 29.5420 - accuracy: 0.9478\n",
      "Epoch 24/50\n",
      "101/101 [==============================] - 6s 56ms/step - loss: 31.7331 - accuracy: 0.9394\n",
      "Epoch 25/50\n",
      "101/101 [==============================] - 6s 56ms/step - loss: 30.1194 - accuracy: 0.9480\n",
      "Epoch 26/50\n",
      "101/101 [==============================] - 6s 56ms/step - loss: 31.8344 - accuracy: 0.9478\n",
      "Epoch 27/50\n",
      "101/101 [==============================] - 6s 56ms/step - loss: 31.2162 - accuracy: 0.9409\n",
      "Epoch 28/50\n",
      "101/101 [==============================] - 6s 56ms/step - loss: 27.5559 - accuracy: 0.9527\n",
      "Epoch 29/50\n",
      "101/101 [==============================] - 6s 56ms/step - loss: 30.2937 - accuracy: 0.9490\n",
      "Epoch 30/50\n",
      "101/101 [==============================] - 6s 56ms/step - loss: 55.1569 - accuracy: 0.9181\n",
      "Epoch 31/50\n",
      "101/101 [==============================] - 6s 56ms/step - loss: 28.6542 - accuracy: 0.9498\n",
      "Epoch 32/50\n",
      "101/101 [==============================] - 6s 56ms/step - loss: 26.8357 - accuracy: 0.9550\n",
      "Epoch 33/50\n",
      "101/101 [==============================] - 6s 56ms/step - loss: 35.1876 - accuracy: 0.9330\n",
      "Epoch 34/50\n",
      "101/101 [==============================] - 6s 56ms/step - loss: 29.8315 - accuracy: 0.9459\n",
      "Epoch 35/50\n",
      "101/101 [==============================] - 6s 56ms/step - loss: 31.5794 - accuracy: 0.9401\n",
      "Epoch 36/50\n",
      "101/101 [==============================] - 6s 56ms/step - loss: 26.1716 - accuracy: 0.9532\n",
      "Epoch 37/50\n",
      "101/101 [==============================] - 6s 56ms/step - loss: 26.8999 - accuracy: 0.9469\n",
      "Epoch 38/50\n",
      "101/101 [==============================] - 6s 56ms/step - loss: 27.1861 - accuracy: 0.9465\n",
      "Epoch 39/50\n",
      "101/101 [==============================] - 6s 56ms/step - loss: 28.3552 - accuracy: 0.9481\n",
      "Epoch 40/50\n",
      "101/101 [==============================] - 6s 56ms/step - loss: 31.4864 - accuracy: 0.9525\n",
      "Epoch 41/50\n",
      "101/101 [==============================] - 6s 56ms/step - loss: 27.7875 - accuracy: 0.9492\n",
      "Epoch 42/50\n",
      "101/101 [==============================] - 6s 56ms/step - loss: 30.3291 - accuracy: 0.9390\n",
      "Epoch 43/50\n",
      "101/101 [==============================] - 6s 56ms/step - loss: 26.4534 - accuracy: 0.9452\n",
      "Epoch 44/50\n",
      "101/101 [==============================] - 6s 56ms/step - loss: 29.3421 - accuracy: 0.9415\n",
      "Epoch 45/50\n",
      "101/101 [==============================] - 6s 56ms/step - loss: 28.2545 - accuracy: 0.9534\n",
      "Epoch 46/50\n",
      "101/101 [==============================] - 6s 56ms/step - loss: 24.4006 - accuracy: 0.9548\n",
      "Epoch 47/50\n",
      "101/101 [==============================] - 6s 56ms/step - loss: 31.2811 - accuracy: 0.9487\n",
      "Epoch 48/50\n",
      "101/101 [==============================] - 6s 56ms/step - loss: 32.9128 - accuracy: 0.9410\n",
      "Epoch 49/50\n",
      "101/101 [==============================] - 6s 56ms/step - loss: 25.5737 - accuracy: 0.9547\n",
      "Epoch 50/50\n",
      "101/101 [==============================] - 6s 56ms/step - loss: 24.4073 - accuracy: 0.9563\n"
     ]
    }
   ],
   "source": [
    "history = model.fit(generate_data(\"../data/train_data2x\",\"../data/train_data\",2,True),steps_per_epoch=101, epochs=50, verbose=1)"
   ]
  },
  {
   "cell_type": "code",
   "execution_count": 10,
   "id": "7521414e",
   "metadata": {},
   "outputs": [
    {
     "data": {
      "image/png": "[encoded data removed]",
      "text/plain": [
       "<Figure size 432x288 with 1 Axes>"
      ]
     },
     "metadata": {
      "needs_background": "light"
     },
     "output_type": "display_data"
    },
    {
     "data": {
      "image/png": "[encoded data removed]",
      "text/plain": [
       "<Figure size 432x288 with 1 Axes>"
      ]
     },
     "metadata": {
      "needs_background": "light"
     },
     "output_type": "display_data"
    }
   ],
   "source": [
    "# Visualization\n",
    "epochs = 50\n",
    "l = np.array(history.history['loss'])\n",
    "a = np.array(history.history['accuracy'])\n",
    "step = np.linspace(1,epochs,epochs)\n",
    "plt.plot(step,l,label=\"Train Loss\")\n",
    "plt.legend(loc='upper right')\n",
    "plt.title('epoch-loss')\n",
    "plt.xlim((0, epochs))\n",
    "plt.gca().set_ylim(bottom=0)\n",
    "plt.xlabel('epoch')\n",
    "plt.ylabel('loss')\n",
    "plt.savefig('./static/train-loss.png', bbox_inches='tight')\n",
    "plt.show()\n",
    "plt.plot(step,a,label=\"Train Acc\")\n",
    "plt.legend(loc='lower right')\n",
    "plt.title('epoch-acc')\n",
    "plt.xlim((0, epochs))\n",
    "plt.ylim((0.7, 1))\n",
    "plt.xlabel('epoch')\n",
    "plt.ylabel('acc')\n",
    "plt.savefig('./static/train-acc.png', bbox_inches='tight')\n",
    "plt.show()"
   ]
  },
  {
   "cell_type": "code",
   "execution_count": 9,
   "id": "881bbad0",
   "metadata": {},
   "outputs": [],
   "source": [
    "model.save(\"./model/FSRCNN.h5\")"
   ]
  },
  {
   "cell_type": "code",
   "execution_count": null,
   "id": "e3b94c4e",
   "metadata": {},
   "outputs": [],
   "source": []
  }
 ],
 "metadata": {
  "kernelspec": {
   "display_name": "Python 3",
   "language": "python",
   "name": "python3"
  },
  "language_info": {
   "codemirror_mode": {
    "name": "ipython",
    "version": 3
   },
   "file_extension": ".py",
   "mimetype": "text/x-python",
   "name": "python",
   "nbconvert_exporter": "python",
   "pygments_lexer": "ipython3",
   "version": "3.8.8"
  }
 },
 "nbformat": 4,
 "nbformat_minor": 5
}
