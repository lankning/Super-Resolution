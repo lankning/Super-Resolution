{
 "cells": [
  {
   "cell_type": "code",
   "execution_count": 1,
   "id": "498af49d",
   "metadata": {},
   "outputs": [],
   "source": [
    "import tensorflow as tf\n",
    "from PIL import Image\n",
    "import numpy as np\n",
    "from utils import *\n",
    "import matplotlib.pyplot as plt\n",
    "import os, random"
   ]
  },
  {
   "cell_type": "code",
   "execution_count": 2,
   "id": "4308a1c8",
   "metadata": {},
   "outputs": [
    {
     "name": "stdout",
     "output_type": "stream",
     "text": [
      "find gpus: [PhysicalDevice(name='/physical_device:GPU:0', device_type='GPU')]\n"
     ]
    }
   ],
   "source": [
    "# # Forbidden GPUs\n",
    "# os.environ[\"CUDA_DEVICE_ORDER\"] = \"PCI_BUS_ID\"\n",
    "# os.environ[\"CUDA_VISIBLE_DEVICES\"] = \"-1\"\n",
    "\n",
    "# set gpus memory used by growth\n",
    "gpus = tf.config.experimental.list_physical_devices(device_type='GPU')\n",
    "print(\"find gpus:\",gpus)\n",
    "for gpu in gpus:\n",
    "    tf.config.experimental.set_memory_growth(gpu, True)"
   ]
  },
  {
   "cell_type": "markdown",
   "id": "1d292cbb",
   "metadata": {},
   "source": [
    "![ESPCN架构](../docs/ESPCN/stru.png)\n",
    "\n",
    "In this place, $r$ represents the scaling ratio, eg. the input shape of LR is $a * a$ and output shape of HR is $ar * ar$\n",
    "\n",
    "此处，$r$为放大倍数，如LR输入的shape为$a * a$，则输出shape为$ar * ar$\n",
    "\n",
    "![detailed image](../docs/ESPCN/net_arch.png)\n",
    "\n",
    "Processing Flow: Input (LR) -> 5x5 conv -> 3x3 conv -> 3x3 conv -> $r^2$ channels, the channel shape is $a * a$ -> reshape to $ar * ar$ (HR)\n",
    "\n",
    "处理流程：LR输入 -> 5x5像素卷积 -> 3x3像素卷积 -> 3x3像素卷积 -> $r^2$个channel，每个channel的shape为$a * a$ -> reshape为$ar * ar$"
   ]
  },
  {
   "cell_type": "code",
   "execution_count": 3,
   "id": "4375a265",
   "metadata": {},
   "outputs": [],
   "source": [
    "# Old version\n",
    "# class PixelShuffler(tf.keras.layers.Layer):\n",
    "#     def __init__(self, target_shape, **kwargs):\n",
    "#         super(PixelShuffler, self).__init__(**kwargs)\n",
    "#         self.target_shape = tuple(target_shape)\n",
    "#         print(\"init succeed.\")\n",
    "    \n",
    "#     def build(self,input_shape):\n",
    "#         # self.inshape = input_shape\n",
    "#         print(\"build succeed.\")\n",
    "\n",
    "#     def call(self, inputs,color=True):\n",
    "#         bsize,inh,inw,ind = inputs.shape\n",
    "#         if bsize is None:\n",
    "#                 bsize = -1\n",
    "#         h,w,d = self.target_shape\n",
    "#         if ((h%inh!=0) or (w%inw!=0) or (ind%d!=0) or ((h/inh)!=(w/inw)) or ((h/inh)*(w/inw)!=(ind/d))):\n",
    "#             raise Exception(\"Error! The shape of input and target is not corresponded.\")\n",
    "#         r = int(h/inh)\n",
    "#         result = []\n",
    "#         if color:\n",
    "#             Xc = tf.split(inputs, 3, 3)\n",
    "#             for x in Xc:\n",
    "#                 X = tf.reshape(x, (bsize, inh, inw, r, r))\n",
    "#                 X = tf.transpose(X, (0, 1, 2, 4, 3))  # bsize, a, b, 1, 1\n",
    "#                 X = tf.split(X, inh, 1)  # a, [bsize, b, r, r]\n",
    "#                 X = tf.concat([tf.squeeze(x) for x in X],2)  # bsize, b, a*r, r\n",
    "#                 X = tf.split(X, inw, 1)  # b, [bsize, a*r, r]\n",
    "#                 X = tf.concat([tf.squeeze(x) for x in X],2)  # bsize, a*r, b*r\n",
    "#                 X = tf.reshape(X, (bsize, inh*r, inw*r, 1))\n",
    "#                 result.append(X)\n",
    "#             X = tf.concat(result,3)\n",
    "#         else:\n",
    "#             X = tf.reshape(inputs, (bsize, inh, inw, r, r))\n",
    "#             X = tf.transpose(X, (0, 1, 2, 4, 3))  # bsize, a, b, 1, 1\n",
    "#             X = tf.split(X, 1, inh)  # a, [bsize, b, r, r]\n",
    "#             X = tf.concat([tf.squeeze(x) for x in X],2)  # bsize, b, a*r, r\n",
    "#             X = tf.split(X, 1, inw)  # b, [bsize, a*r, r]\n",
    "#             X = tf.concat([tf.squeeze(x) for x in X],2)  # bsize, a*r, b*r\n",
    "#             X = tf.reshape(X, (bsize, inh*r, inw*r, 1))\n",
    "#             X = tf.concat(result,3)\n",
    "#         print(\"PixelShuffle Finished.\")\n",
    "#         return X\n",
    "\n",
    "# model = tf.keras.Sequential()\n",
    "# # Feature extracting\n",
    "# model.add(tf.keras.layers.Conv2D(64, 5, activation='relu', padding=\"same\", input_shape=(360, 780, 3)))\n",
    "# assert model.output_shape == (None, 360, 780, 64)\n",
    "# model.add(tf.keras.layers.Conv2D(32, 3, activation='relu', padding=\"same\"))\n",
    "# assert model.output_shape == (None, 360, 780, 32)\n",
    "# model.add(tf.keras.layers.Conv2D(12, 3, activation='relu', padding=\"same\"))\n",
    "# assert model.output_shape == (None, 360, 780, 12)\n",
    "# model.add(Shuffler(2))\n",
    "# # model.add(PixelShuffler((720,1560,3)))\n",
    "# assert model.output_shape == (None, 720, 1560, 3)\n",
    "# print(model.summary())"
   ]
  },
  {
   "cell_type": "code",
   "execution_count": 4,
   "id": "6572c7a5",
   "metadata": {},
   "outputs": [],
   "source": [
    "class Shuffler(tf.keras.layers.Layer):\n",
    "    def __init__(self,r):\n",
    "        # 调用父类__init__()方法\n",
    "        super(Shuffler, self).__init__()\n",
    "        self.r = r\n",
    "\n",
    "    def call(self, inputs):\n",
    "        x_c = []\n",
    "        for c in range(3):\n",
    "            t = inputs[:,:,:,c*self.r*self.r:c*self.r*self.r+self.r*self.r] # [B,H,W,R*R]\n",
    "            t = tf.compat.v1.depth_to_space(t, self.r) # [B,H*R,W*R,1]\n",
    "            x_c += [t]\n",
    "        x = tf.concat(x_c, axis=3)   # [B,H*R,W*R,3]\n",
    "        return x"
   ]
  },
  {
   "cell_type": "code",
   "execution_count": 5,
   "id": "47ae94f0",
   "metadata": {},
   "outputs": [],
   "source": [
    "class ESPCN(tf.keras.models.Model):\n",
    "    def __init__(self,r):\n",
    "        super(ESPCN, self).__init__()\n",
    "        self.conv2d_1 = tf.keras.layers.Conv2D(128, 5, activation='relu', padding=\"same\", name=\"conv2d_1\")\n",
    "        self.conv2d_2 = tf.keras.layers.Conv2D(64, 3, activation='relu', padding=\"same\", name=\"conv2d_2\")\n",
    "        self.conv2d_3 = tf.keras.layers.Conv2D(3*r*r, 3, activation='relu', padding=\"same\", name=\"conv2d_3\")\n",
    "        self.shuffle = Shuffler(r)\n",
    "    \n",
    "    def call(self, inputs):\n",
    "        x = self.conv2d_1(inputs)\n",
    "        x = self.conv2d_2(x)\n",
    "        x = self.conv2d_3(x)\n",
    "        x = self.shuffle(x)\n",
    "        return x"
   ]
  },
  {
   "cell_type": "code",
   "execution_count": 6,
   "id": "68301017",
   "metadata": {},
   "outputs": [
    {
     "name": "stdout",
     "output_type": "stream",
     "text": [
      "Model: \"espcn\"\n",
      "_________________________________________________________________\n",
      "Layer (type)                 Output Shape              Param #   \n",
      "=================================================================\n",
      "conv2d_1 (Conv2D)            multiple                  9728      \n",
      "_________________________________________________________________\n",
      "conv2d_2 (Conv2D)            multiple                  73792     \n",
      "_________________________________________________________________\n",
      "conv2d_3 (Conv2D)            multiple                  27696     \n",
      "_________________________________________________________________\n",
      "shuffler (Shuffler)          multiple                  0         \n",
      "=================================================================\n",
      "Total params: 111,216\n",
      "Trainable params: 111,216\n",
      "Non-trainable params: 0\n",
      "_________________________________________________________________\n",
      "None\n"
     ]
    }
   ],
   "source": [
    "batch = 1\n",
    "inh = 90\n",
    "inw = 65\n",
    "inc = 3\n",
    "espcn = ESPCN(4)\n",
    "espcn.build(input_shape=(batch,inh,inw,inc))\n",
    "print(espcn.summary())"
   ]
  },
  {
   "cell_type": "code",
   "execution_count": 7,
   "id": "ebc4bff5",
   "metadata": {},
   "outputs": [],
   "source": [
    "def customized_loss(y_true, y_pred):\n",
    "    return tf.reduce_sum(tf.reduce_mean(tf.square(y_pred - y_true)))\n",
    "\n",
    "espcn.compile(optimizer='adam',\n",
    "              loss=customized_loss,\n",
    "              metrics=['accuracy'])"
   ]
  },
  {
   "cell_type": "code",
   "execution_count": 8,
   "id": "b16d3cbf",
   "metadata": {},
   "outputs": [],
   "source": [
    "def generate_data(inpath,outpath,batch_size,reshuffle_each_iteration=False):\n",
    "    # read and sort train data from dir\n",
    "    x_train_lr_list = os.listdir(inpath)\n",
    "    x_train_lr_list.sort(key=lambda x:int(x[5:-4]))#倒着数第四位'.'为分界线，按照‘.’左边的数字从小到大排序\n",
    "    x_train_lr_list = [os.path.join(inpath,c) for c in x_train_lr_list]\n",
    "    y_train_list = os.listdir(outpath)\n",
    "    y_train_list.sort(key=lambda x:int(x[5:-4]))\n",
    "    y_train_list = [os.path.join(outpath,c) for c in y_train_list]\n",
    "    i = 0\n",
    "    while True:\n",
    "        x_train_lr, y_train = loadimgs_from_paths(\n",
    "            x_train_lr_list[i*batch_size:(i+1)*batch_size], y_train_list[i*batch_size:(i+1)*batch_size])\n",
    "        yield np.float32(x_train_lr/255), np.float32(y_train/255)\n",
    "        i = (i+1) % (len(x_train_lr_list) // batch_size)\n",
    "        # print(len(x_train_lr_list) // batch_size)\n",
    "        if reshuffle_each_iteration:\n",
    "            if i == 0:\n",
    "                paths = list(zip(x_train_lr_list, y_train_list))\n",
    "                random.shuffle(paths)\n",
    "                x_train_lr_list, y_train_list = zip(*paths)"
   ]
  },
  {
   "cell_type": "code",
   "execution_count": 9,
   "id": "e8d04aea",
   "metadata": {
    "scrolled": true
   },
   "outputs": [
    {
     "name": "stdout",
     "output_type": "stream",
     "text": [
      "Epoch 1/50\n",
      "100/100 [==============================] - 0s 4ms/step - loss: 0.0126 - accuracy: 0.5874\n",
      "Epoch 2/50\n",
      "100/100 [==============================] - 0s 4ms/step - loss: 0.0051 - accuracy: 0.8500\n",
      "Epoch 3/50\n",
      "100/100 [==============================] - 0s 4ms/step - loss: 0.0035 - accuracy: 0.8568\n",
      "Epoch 4/50\n",
      "100/100 [==============================] - 0s 4ms/step - loss: 0.0061 - accuracy: 0.8464\n",
      "Epoch 5/50\n",
      "100/100 [==============================] - 0s 4ms/step - loss: 0.0064 - accuracy: 0.8675\n",
      "Epoch 6/50\n",
      "100/100 [==============================] - 0s 4ms/step - loss: 0.0056 - accuracy: 0.8950\n",
      "Epoch 7/50\n",
      "100/100 [==============================] - 0s 4ms/step - loss: 0.0039 - accuracy: 0.8865\n",
      "Epoch 8/50\n",
      "100/100 [==============================] - 0s 4ms/step - loss: 0.0049 - accuracy: 0.8830\n",
      "Epoch 9/50\n",
      "100/100 [==============================] - 0s 4ms/step - loss: 0.0040 - accuracy: 0.9166\n",
      "Epoch 10/50\n",
      "100/100 [==============================] - 0s 4ms/step - loss: 0.0049 - accuracy: 0.9052\n",
      "Epoch 11/50\n",
      "100/100 [==============================] - 0s 4ms/step - loss: 0.0064 - accuracy: 0.8783\n",
      "Epoch 12/50\n",
      "100/100 [==============================] - 0s 4ms/step - loss: 0.0052 - accuracy: 0.8669\n",
      "Epoch 13/50\n",
      "100/100 [==============================] - 0s 4ms/step - loss: 0.0049 - accuracy: 0.8199\n",
      "Epoch 14/50\n",
      "100/100 [==============================] - 0s 4ms/step - loss: 0.0041 - accuracy: 0.9081\n",
      "Epoch 15/50\n",
      "100/100 [==============================] - 0s 4ms/step - loss: 0.0044 - accuracy: 0.9023\n",
      "Epoch 16/50\n",
      "100/100 [==============================] - 0s 4ms/step - loss: 0.0040 - accuracy: 0.9084\n",
      "Epoch 17/50\n",
      "100/100 [==============================] - 0s 4ms/step - loss: 0.0059 - accuracy: 0.8286\n",
      "Epoch 18/50\n",
      "100/100 [==============================] - 0s 4ms/step - loss: 0.0042 - accuracy: 0.8927\n",
      "Epoch 19/50\n",
      "100/100 [==============================] - 0s 4ms/step - loss: 0.0038 - accuracy: 0.8896\n",
      "Epoch 20/50\n",
      "100/100 [==============================] - 0s 4ms/step - loss: 0.0040 - accuracy: 0.9148\n",
      "Epoch 21/50\n",
      "100/100 [==============================] - 0s 4ms/step - loss: 0.0038 - accuracy: 0.9155\n",
      "Epoch 22/50\n",
      "100/100 [==============================] - 0s 4ms/step - loss: 0.0037 - accuracy: 0.9188\n",
      "Epoch 23/50\n",
      "100/100 [==============================] - 0s 4ms/step - loss: 0.0038 - accuracy: 0.9068\n",
      "Epoch 24/50\n",
      "100/100 [==============================] - 0s 4ms/step - loss: 0.0038 - accuracy: 0.9094\n",
      "Epoch 25/50\n",
      "100/100 [==============================] - 0s 4ms/step - loss: 0.0038 - accuracy: 0.8695\n",
      "Epoch 26/50\n",
      "100/100 [==============================] - 0s 4ms/step - loss: 0.0047 - accuracy: 0.8528\n",
      "Epoch 27/50\n",
      "100/100 [==============================] - 0s 4ms/step - loss: 0.0039 - accuracy: 0.9043\n",
      "Epoch 28/50\n",
      "100/100 [==============================] - 0s 4ms/step - loss: 0.0037 - accuracy: 0.9155\n",
      "Epoch 29/50\n",
      "100/100 [==============================] - 0s 4ms/step - loss: 0.0035 - accuracy: 0.9174\n",
      "Epoch 30/50\n",
      "100/100 [==============================] - 0s 4ms/step - loss: 0.0036 - accuracy: 0.9124\n",
      "Epoch 31/50\n",
      "100/100 [==============================] - 0s 4ms/step - loss: 0.0041 - accuracy: 0.9136\n",
      "Epoch 32/50\n",
      "100/100 [==============================] - 0s 4ms/step - loss: 0.0041 - accuracy: 0.8747\n",
      "Epoch 33/50\n",
      "100/100 [==============================] - 0s 4ms/step - loss: 0.0035 - accuracy: 0.9071\n",
      "Epoch 34/50\n",
      "100/100 [==============================] - 0s 4ms/step - loss: 0.0034 - accuracy: 0.9244\n",
      "Epoch 35/50\n",
      "100/100 [==============================] - 0s 4ms/step - loss: 0.0035 - accuracy: 0.9186\n",
      "Epoch 36/50\n",
      "100/100 [==============================] - 0s 4ms/step - loss: 0.0036 - accuracy: 0.9174\n",
      "Epoch 37/50\n",
      "100/100 [==============================] - 0s 4ms/step - loss: 0.0034 - accuracy: 0.9177\n",
      "Epoch 38/50\n",
      "100/100 [==============================] - 0s 4ms/step - loss: 0.0036 - accuracy: 0.9212\n",
      "Epoch 39/50\n",
      "100/100 [==============================] - 0s 4ms/step - loss: 0.0039 - accuracy: 0.8519\n",
      "Epoch 40/50\n",
      "100/100 [==============================] - 0s 4ms/step - loss: 0.0035 - accuracy: 0.9152\n",
      "Epoch 41/50\n",
      "100/100 [==============================] - 0s 4ms/step - loss: 0.0034 - accuracy: 0.9185\n",
      "Epoch 42/50\n",
      "100/100 [==============================] - 0s 4ms/step - loss: 0.0035 - accuracy: 0.9266\n",
      "Epoch 43/50\n",
      "100/100 [==============================] - 0s 4ms/step - loss: 0.0037 - accuracy: 0.9099\n",
      "Epoch 44/50\n",
      "100/100 [==============================] - 0s 4ms/step - loss: 0.0035 - accuracy: 0.9155\n",
      "Epoch 45/50\n",
      "100/100 [==============================] - 0s 4ms/step - loss: 0.0034 - accuracy: 0.9249\n",
      "Epoch 46/50\n",
      "100/100 [==============================] - 0s 4ms/step - loss: 0.0036 - accuracy: 0.9128\n",
      "Epoch 47/50\n",
      "100/100 [==============================] - 0s 4ms/step - loss: 0.0034 - accuracy: 0.9253\n",
      "Epoch 48/50\n",
      "100/100 [==============================] - 0s 4ms/step - loss: 0.0033 - accuracy: 0.9245\n",
      "Epoch 49/50\n",
      "100/100 [==============================] - 0s 4ms/step - loss: 0.0035 - accuracy: 0.9210\n",
      "Epoch 50/50\n",
      "100/100 [==============================] - 0s 4ms/step - loss: 0.0036 - accuracy: 0.9012\n"
     ]
    }
   ],
   "source": [
    "history = espcn.fit(generate_data(\"../data/cut_data4x\",\"../data/cut_data\",1,True),steps_per_epoch=100, epochs=50, verbose=1)"
   ]
  },
  {
   "cell_type": "code",
   "execution_count": 12,
   "id": "7521414e",
   "metadata": {},
   "outputs": [
    {
     "data": {
      "image/png": "[encoded data removed]",
      "text/plain": [
       "<Figure size 432x288 with 1 Axes>"
      ]
     },
     "metadata": {
      "needs_background": "light"
     },
     "output_type": "display_data"
    },
    {
     "data": {
      "image/png": "[encoded data removed]",
      "text/plain": [
       "<Figure size 432x288 with 1 Axes>"
      ]
     },
     "metadata": {
      "needs_background": "light"
     },
     "output_type": "display_data"
    }
   ],
   "source": [
    "# Visualization\n",
    "epochs = 50\n",
    "l = np.array(history.history['loss'])\n",
    "a = np.array(history.history['accuracy'])\n",
    "step = np.linspace(1,epochs,epochs)\n",
    "plt.plot(step,l,label=\"Train Loss\")\n",
    "plt.legend(loc='upper right')\n",
    "plt.title('epoch-loss')\n",
    "plt.xlim((0, epochs))\n",
    "plt.gca().set_ylim(bottom=0)\n",
    "plt.xlabel('epoch')\n",
    "plt.ylabel('loss')\n",
    "plt.savefig('../docs/ESPCN/train-loss.png', bbox_inches='tight')\n",
    "plt.show()\n",
    "plt.plot(step,a,label=\"Train Acc\")\n",
    "plt.legend(loc='lower right')\n",
    "plt.title('epoch-acc')\n",
    "plt.xlim((0, epochs))\n",
    "plt.ylim((0.5, 1))\n",
    "plt.xlabel('epoch')\n",
    "plt.ylabel('acc')\n",
    "plt.savefig('../docs/ESPCN/train-acc.png', bbox_inches='tight')\n",
    "plt.show()"
   ]
  },
  {
   "cell_type": "code",
   "execution_count": 11,
   "id": "881bbad0",
   "metadata": {},
   "outputs": [],
   "source": [
    "espcn.save_weights(\"./model/ESPCN\")"
   ]
  },
  {
   "cell_type": "code",
   "execution_count": null,
   "id": "e3b94c4e",
   "metadata": {},
   "outputs": [],
   "source": []
  }
 ],
 "metadata": {
  "kernelspec": {
   "display_name": "Python 3",
   "language": "python",
   "name": "python3"
  },
  "language_info": {
   "codemirror_mode": {
    "name": "ipython",
    "version": 3
   },
   "file_extension": ".py",
   "mimetype": "text/x-python",
   "name": "python",
   "nbconvert_exporter": "python",
   "pygments_lexer": "ipython3",
   "version": "3.8.8"
  }
 },
 "nbformat": 4,
 "nbformat_minor": 5
}
