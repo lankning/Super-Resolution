{
 "cells": [
  {
   "cell_type": "code",
   "execution_count": 1,
   "id": "498af49d",
   "metadata": {},
   "outputs": [],
   "source": [
    "import tensorflow as tf\n",
    "tf.config.experimental_run_functions_eagerly(True)\n",
    "# tf.config.run_functions_eagerly(True)\n",
    "from PIL import Image\n",
    "import numpy as np\n",
    "from utils import *\n",
    "import matplotlib.pyplot as plt\n",
    "import os, random"
   ]
  },
  {
   "cell_type": "code",
   "execution_count": 2,
   "id": "4308a1c8",
   "metadata": {},
   "outputs": [
    {
     "name": "stdout",
     "output_type": "stream",
     "text": [
      "find gpus: [PhysicalDevice(name='/physical_device:GPU:0', device_type='GPU')]\n"
     ]
    }
   ],
   "source": [
    "# # Forbidden GPUs\n",
    "# os.environ[\"CUDA_DEVICE_ORDER\"] = \"PCI_BUS_ID\"\n",
    "# os.environ[\"CUDA_VISIBLE_DEVICES\"] = \"-1\"\n",
    "\n",
    "# set gpus memory used by growth\n",
    "gpus = tf.config.experimental.list_physical_devices(device_type='GPU')\n",
    "print(\"find gpus:\",gpus)\n",
    "for gpu in gpus:\n",
    "    tf.config.experimental.set_memory_growth(gpu, True)"
   ]
  },
  {
   "cell_type": "markdown",
   "id": "46f4572a",
   "metadata": {},
   "source": [
    "![stru](../docs/DUF/net-stru.png)"
   ]
  },
  {
   "cell_type": "markdown",
   "id": "88db158e",
   "metadata": {},
   "source": [
    "3, 360, 640, 3 -> 1,360,640,256\n",
    "\n",
    "-> R_t: 1, 360, 640, 48\n",
    "\n",
    "-> F_t: 1, 1, 360, 640, 25, 16\n",
    "\n",
    "r = 2"
   ]
  },
  {
   "cell_type": "code",
   "execution_count": 3,
   "id": "c1421eb7",
   "metadata": {},
   "outputs": [],
   "source": [
    "# class ResBlock(tf.keras.layers.Layer):\n",
    "#     def __init__(self):\n",
    "#         super(ResBlock, self).__init__()\n",
    "#         print(\"ResBlock inited.\")\n",
    "\n",
    "#     def call(self, inputs):\n",
    "#         #x = tf.nn.batch_normalization(inputs)\n",
    "#         x = tf.keras.layers.Conv2D(64,1,padding='same',activation='relu')(inputs)\n",
    "#         #x = tf.nn.batch_normalization(x)\n",
    "#         x = tf.keras.layers.Conv2D(128,3,padding='same',activation='relu')(x)\n",
    "#         # print(\"ResBlock Finished.\")\n",
    "#         return x"
   ]
  },
  {
   "cell_type": "code",
   "execution_count": 4,
   "id": "c85434c8",
   "metadata": {},
   "outputs": [],
   "source": [
    "batch = 1\n",
    "ind = 3\n",
    "inh = 90\n",
    "inw = 195\n",
    "inc = 3\n",
    "uf = 4\n",
    "stp = [[0,0], [1,1], [1,1], [1,1], [0,0]]\n",
    "sp = [[0,0], [0,0], [1,1], [1,1], [0,0]]"
   ]
  },
  {
   "cell_type": "code",
   "execution_count": 5,
   "id": "3e0efa53",
   "metadata": {},
   "outputs": [],
   "source": [
    "class DUF_Conv(tf.keras.models.Model):\n",
    "    def __init__(self,uf):\n",
    "        # 调用父类__init__()方法\n",
    "        super(DUF_Conv, self).__init__()\n",
    "        self.conv3d_1 = tf.keras.layers.Conv3D(64, 3, strides=1, padding='valid', activation='relu', name=\"conv1\")\n",
    "        self.rconv1a = tf.keras.layers.Conv3D(64, 1, strides=(1,1,1), padding='valid', activation='relu', name=\"rconv1a\")\n",
    "        self.rconv1b = tf.keras.layers.Conv3D(32, 3, strides=1, padding='valid', activation='relu', name=\"rconv1b\")\n",
    "        self.rconv2a = tf.keras.layers.Conv3D(96, 1, strides=(1,1,1), padding='valid', activation='relu', name=\"rconv2a\")\n",
    "        self.rconv2b = tf.keras.layers.Conv3D(32, 3, strides=1, padding='valid', activation='relu', name=\"rconv2b\")\n",
    "        self.rconv3a = tf.keras.layers.Conv3D(128, 1, strides=(1,1,1), padding='valid', activation='relu', name=\"rconv3a\")\n",
    "        self.rconv3b = tf.keras.layers.Conv3D(32, 3, strides=1, padding='valid', activation='relu', name=\"rconv3b\")\n",
    "        self.rconv4a = tf.keras.layers.Conv3D(160, 1, strides=(1,1,1), padding='valid', activation='relu', name=\"rconv4a\")\n",
    "        self.rconv4b = tf.keras.layers.Conv3D(32, 3, strides=1, padding='valid', activation='relu', name=\"rconv4b\")\n",
    "        self.rconv5a = tf.keras.layers.Conv3D(192, 1, strides=(1,1,1), padding='valid', activation='relu', name=\"rconv5a\")\n",
    "        self.rconv5b = tf.keras.layers.Conv3D(32, 3, strides=1, padding='valid', activation='relu', name=\"rconv5b\")\n",
    "        self.rconv6a = tf.keras.layers.Conv3D(224, 1, strides=(1,1,1), padding='valid', activation='relu', name=\"rconv6a\")\n",
    "        self.rconv6b = tf.keras.layers.Conv3D(32, 3, strides=1, padding='valid', activation='relu', name=\"rconv6b\")\n",
    "        self.bn1a = tf.keras.layers.BatchNormalization()\n",
    "        self.bn1b = tf.keras.layers.BatchNormalization()\n",
    "        self.bn2a = tf.keras.layers.BatchNormalization()\n",
    "        self.bn2b = tf.keras.layers.BatchNormalization()\n",
    "        self.bn3a = tf.keras.layers.BatchNormalization()\n",
    "        self.bn3b = tf.keras.layers.BatchNormalization()\n",
    "        self.bn4a = tf.keras.layers.BatchNormalization()\n",
    "        self.bn4b = tf.keras.layers.BatchNormalization()\n",
    "        self.bn5a = tf.keras.layers.BatchNormalization()\n",
    "        self.bn5b = tf.keras.layers.BatchNormalization()\n",
    "        self.bn6a = tf.keras.layers.BatchNormalization()\n",
    "        self.bn6b = tf.keras.layers.BatchNormalization()\n",
    "        # ------\n",
    "        #self.fbn1 = tf.keras.layers.BatchNormalization()\n",
    "        self.conv3d_s = tf.keras.layers.Conv3D(256,3,strides=(1,1,1),padding=\"valid\", activation='relu', name=\"conv3d_s\")\n",
    "        \n",
    "        self.rconv1 = tf.keras.layers.Conv3D(256,1,strides=(1,1,1),padding=\"valid\", activation='relu', name=\"rconv1\")\n",
    "        self.rconv2 = tf.keras.layers.Conv3D(3*uf*uf,1,strides=(1,1,1),padding=\"valid\", activation='relu', name=\"rconv2\")\n",
    "        \n",
    "        self.fconv1 = tf.keras.layers.Conv3D(512,1,strides=(1,1,1),padding=\"valid\", activation='relu', name=\"fconv1\")\n",
    "        self.fconv2 = tf.keras.layers.Conv3D(1*5*5*uf*uf,1,strides=(1,1,1),padding=\"valid\", activation='relu', name=\"fconv2\")\n",
    "        \n",
    "        self.uf = uf\n",
    "        #print(\"Model inited.\")\n",
    "\n",
    "    def call(self, inputs):\n",
    "        #print(\"inputs: \",inputs)\n",
    "        x = self.conv3d_1(tf.pad(inputs, paddings=sp, mode='CONSTANT', name=\"padding\"))\n",
    "        #print(\"x:\",x)\n",
    "        \n",
    "        t = self.bn1a(x)\n",
    "        t = self.rconv1a(t)\n",
    "        t = self.bn1b(t)\n",
    "        t = self.rconv1b(tf.pad(t, paddings=stp, mode='CONSTANT', name=\"padding\"))\n",
    "        x = tf.concat([x, t], 4)\n",
    "        #print(\"x:\",x)\n",
    "        t = self.bn2a(x)\n",
    "        t = self.rconv2a(t)\n",
    "        t = self.bn2b(t)\n",
    "        t = self.rconv2b(tf.pad(t, paddings=stp, mode='CONSTANT', name=\"padding\"))\n",
    "        x = tf.concat([x, t], 4)\n",
    "        #print(\"x:\",x)\n",
    "        t = self.bn3a(x)\n",
    "        t = self.rconv3a(t)\n",
    "        t = self.bn3b(t)\n",
    "        t = self.rconv3b(tf.pad(t, paddings=stp, mode='CONSTANT', name=\"padding\"))\n",
    "        x = tf.concat([x, t], 4)\n",
    "        #print(\"x:\",x)\n",
    "        t = self.bn4a(x)\n",
    "        t = self.rconv4a(t)\n",
    "        t = self.bn4b(t)\n",
    "        t = self.rconv4b(tf.pad(t, paddings=stp, mode='CONSTANT', name=\"padding\"))\n",
    "        x = tf.concat([x, t], 4)\n",
    "        #print(\"x:\",x)\n",
    "        t = self.bn5a(x)\n",
    "        t = self.rconv5a(t)\n",
    "        t = self.bn5b(t)\n",
    "        t = self.rconv5b(tf.pad(t, paddings=stp, mode='CONSTANT', name=\"padding\"))\n",
    "        x = tf.concat([x, t], 4)\n",
    "        #print(\"x:\",x)\n",
    "        t = self.bn6a(x)\n",
    "        t = self.rconv6a(t)\n",
    "        t = self.bn6b(t)\n",
    "        t = self.rconv6b(tf.pad(t, paddings=stp, mode='CONSTANT', name=\"padding\"))\n",
    "        x = tf.concat([x, t], 4)\n",
    "        #print(\"x:\",x)\n",
    "        #x = self.fbn1(x)\n",
    "        x = self.conv3d_s(tf.pad(t, paddings=stp, mode='CONSTANT', name=\"padding\"))\n",
    "        x = tf.nn.relu(x)\n",
    "        #print(x)\n",
    "        \n",
    "        r = self.rconv1(x)\n",
    "        r = self.rconv2(r)\n",
    "        #print(r)\n",
    "        \n",
    "        f = self.fconv1(x)\n",
    "        f = self.fconv2(f)\n",
    "        #print(f)\n",
    "        \n",
    "        ds_f = tf.shape(f)\n",
    "        f = tf.reshape(f, [ds_f[0], ds_f[1], ds_f[2], ds_f[3], 25, self.uf*self.uf])\n",
    "        f = tf.nn.softmax(f, axis=4)\n",
    "        #print(f)\n",
    "\n",
    "        return f,r"
   ]
  },
  {
   "cell_type": "code",
   "execution_count": 6,
   "id": "5907b691",
   "metadata": {},
   "outputs": [],
   "source": [
    "def DynFilter3D(x, F, filter_size):\n",
    "    '''\n",
    "    3D Dynamic filtering\n",
    "    input x: (b, t, h, w)\n",
    "          F: (b, h, w, tower_depth, output_depth)\n",
    "          filter_shape (ft, fh, fw)\n",
    "    '''\n",
    "    # make tower\n",
    "    filter_localexpand_np = np.reshape(np.eye(np.prod(filter_size), np.prod(filter_size)), (filter_size[1], filter_size[2], filter_size[0], np.prod(filter_size)))\n",
    "    filter_localexpand = tf.Variable(filter_localexpand_np, trainable=False, dtype='float32',name='filter_localexpand') \n",
    "    x = tf.transpose(x, perm=[0,2,3,1])\n",
    "    x_localexpand = tf.nn.conv2d(x, filter_localexpand, [1,1,1,1], 'SAME') # b, h, w, 1*5*5\n",
    "    x_localexpand = tf.expand_dims(x_localexpand, axis=3)  # b, h, w, 1, 1*5*5\n",
    "    x = tf.matmul(x_localexpand, F) # b, h, w, 1, R*R\n",
    "    x = tf.squeeze(x, axis=3) # b, h, w, R*R\n",
    "    return x"
   ]
  },
  {
   "cell_type": "code",
   "execution_count": 7,
   "id": "34e7beee",
   "metadata": {},
   "outputs": [],
   "source": [
    "def depth_to_space_3D(x, block_size):\n",
    "    ds_x = tf.shape(x)\n",
    "    x = tf.reshape(x, [ds_x[0]*ds_x[1], ds_x[2], ds_x[3], ds_x[4]])\n",
    "    \n",
    "    y = tf.compat.v1.depth_to_space(x, block_size)\n",
    "    \n",
    "    ds_y = tf.shape(y)\n",
    "    x = tf.reshape(y, [ds_x[0], ds_x[1], ds_y[1], ds_y[2], ds_y[3]])\n",
    "    return x"
   ]
  },
  {
   "cell_type": "code",
   "execution_count": 8,
   "id": "1ce0074c",
   "metadata": {},
   "outputs": [],
   "source": [
    "class DUF(tf.keras.models.Model):\n",
    "    def __init__(self,uf,T_in):\n",
    "        # 调用父类__init__()方法\n",
    "        super(DUF, self).__init__()\n",
    "        self.duf_conv = DUF_Conv(uf=uf)\n",
    "        self.T_in = T_in\n",
    "        self.uf = uf\n",
    "        #print(\"Model inited.\")\n",
    "\n",
    "    def call(self, inputs):\n",
    "        Fx, Rx = self.duf_conv(inputs)\n",
    "        #print(\"Fx: \",Fx)\n",
    "        #print(\"Rx: \",Rx)\n",
    "        x_c = []\n",
    "        for c in range(3):\n",
    "            t = DynFilter3D(inputs[:,self.T_in//2:self.T_in//2+1,:,:,c], Fx[:,0,:,:,:,:], [1,5,5]) # [B,H,W,R*R]\n",
    "            t = tf.compat.v1.depth_to_space(t, self.uf) # [B,H*R,W*R,1]\n",
    "            x_c += [t]\n",
    "        x = tf.concat(x_c, axis=3)   # [B,H*R,W*R,3]\n",
    "        x = tf.expand_dims(x, axis=1)\n",
    "        Rx = depth_to_space_3D(Rx, self.uf)   # [B,1,H*R,W*R,3]\n",
    "        x += Rx\n",
    "        x = tf.squeeze(x, axis=1)\n",
    "        #print(\"Out: \",x)\n",
    "        return x"
   ]
  },
  {
   "cell_type": "code",
   "execution_count": 9,
   "id": "c715b299",
   "metadata": {},
   "outputs": [
    {
     "name": "stdout",
     "output_type": "stream",
     "text": [
      "Model: \"duf\"\n",
      "_________________________________________________________________\n",
      "Layer (type)                 Output Shape              Param #   \n",
      "=================================================================\n",
      "duf__conv (DUF_Conv)         multiple                  1538400   \n",
      "=================================================================\n",
      "Total params: 1,538,400\n",
      "Trainable params: 1,534,944\n",
      "Non-trainable params: 3,456\n",
      "_________________________________________________________________\n",
      "None\n"
     ]
    }
   ],
   "source": [
    "duf = DUF(uf,ind)\n",
    "duf.build(input_shape=(batch,ind,inh,inw,inc))\n",
    "print(duf.summary())"
   ]
  },
  {
   "cell_type": "code",
   "execution_count": 10,
   "id": "5fd8ec19",
   "metadata": {},
   "outputs": [],
   "source": [
    "def Huber(y_true, y_pred, delta=0.1, axis=None):\n",
    "    abs_error = tf.abs(y_pred - y_true)\n",
    "    quadratic = tf.minimum(abs_error, delta)\n",
    "    # The following expression is the same in value as\n",
    "    # tf.maximum(abs_error - delta, 0), but importantly the gradient for the\n",
    "    # expression when abs_error == delta is 0 (for tf.maximum it would be 1).\n",
    "    # This is necessary to avoid doubling the gradient, since there is already a\n",
    "    # nonzero contribution to the gradient from the quadratic term.\n",
    "    linear = (abs_error - quadratic)\n",
    "    losses = 0.5 * quadratic**2 + delta * linear\n",
    "    return tf.reduce_mean(losses, axis=axis)"
   ]
  },
  {
   "cell_type": "code",
   "execution_count": 11,
   "id": "ebc4bff5",
   "metadata": {},
   "outputs": [],
   "source": [
    "duf.compile(optimizer='adam',\n",
    "              loss=Huber,\n",
    "              metrics=['accuracy'])"
   ]
  },
  {
   "cell_type": "code",
   "execution_count": 12,
   "id": "b16d3cbf",
   "metadata": {},
   "outputs": [],
   "source": [
    "def generator(inpath, outpath, batch_size=1, reshuffle_each_iteration=True, besides=2):\n",
    "    # read and sort train data from dir\n",
    "    x_train_lr_list = os.listdir(inpath)\n",
    "    x_train_lr_list.sort(key=lambda x:int(x[5:-4]))#倒着数第四位'.'为分界线，按照‘.’左边的数字从小到大排序\n",
    "    x_train_lr_list = [os.path.join(inpath,c) for c in x_train_lr_list]\n",
    "    y_train_list = os.listdir(outpath)\n",
    "    y_train_list.sort(key=lambda x:int(x[5:-4]))\n",
    "    y_train_list = [os.path.join(outpath,c) for c in y_train_list]\n",
    "    #i = 0\n",
    "    while True:\n",
    "        middle = random.randint(besides,len(y_train_list)-besides)\n",
    "        x_train_lr, y_train = loadimgs_from_paths(\n",
    "            x_train_lr_list[middle-besides:middle+besides+1], y_train_list[middle:middle+1])\n",
    "        #print(\" \",middle-besides,middle+besides+1)\n",
    "        x_train_lr = x_train_lr[np.newaxis, :]\n",
    "        #print(np.shape(x_train_lr),np.shape(y_train))\n",
    "        yield np.float32(x_train_lr/255), np.float32(y_train/255)\n",
    "        #i = (i+1) % (len(x_train_lr_list) // batch_size)\n",
    "        # print(len(x_train_lr_list) // batch_size)\n",
    "#         if reshuffle_each_iteration:\n",
    "#             if i == 0:\n",
    "#                 paths = list(zip(x_train_lr_list, y_train_list))\n",
    "#                 random.shuffle(paths)\n",
    "#                 x_train_lr_list, y_train_list = zip(*paths)"
   ]
  },
  {
   "cell_type": "code",
   "execution_count": 13,
   "id": "e8d04aea",
   "metadata": {
    "scrolled": true
   },
   "outputs": [
    {
     "name": "stdout",
     "output_type": "stream",
     "text": [
      "Epoch 1/50\n",
      "10/10 [==============================] - 1s 122ms/step - loss: 0.0025 - accuracy: 0.8780\n",
      "Epoch 2/50\n",
      "10/10 [==============================] - 1s 121ms/step - loss: 0.0023 - accuracy: 0.9192\n",
      "Epoch 3/50\n",
      "10/10 [==============================] - 1s 120ms/step - loss: 0.0015 - accuracy: 0.9397\n",
      "Epoch 4/50\n",
      "10/10 [==============================] - 1s 121ms/step - loss: 0.0017 - accuracy: 0.9429\n",
      "Epoch 5/50\n",
      "10/10 [==============================] - 1s 120ms/step - loss: 0.0011 - accuracy: 0.9545\n",
      "Epoch 6/50\n",
      "10/10 [==============================] - 1s 121ms/step - loss: 0.0011 - accuracy: 0.9588\n",
      "Epoch 7/50\n",
      "10/10 [==============================] - 1s 124ms/step - loss: 0.0012 - accuracy: 0.9584\n",
      "Epoch 8/50\n",
      "10/10 [==============================] - 1s 121ms/step - loss: 9.8672e-04 - accuracy: 0.9677\n",
      "Epoch 9/50\n",
      "10/10 [==============================] - 1s 121ms/step - loss: 0.0012 - accuracy: 0.9554\n",
      "Epoch 10/50\n",
      "10/10 [==============================] - 1s 121ms/step - loss: 0.0010 - accuracy: 0.9597\n",
      "Epoch 11/50\n",
      "10/10 [==============================] - 1s 120ms/step - loss: 8.8098e-04 - accuracy: 0.9568\n",
      "Epoch 12/50\n",
      "10/10 [==============================] - 1s 121ms/step - loss: 0.0010 - accuracy: 0.9572\n",
      "Epoch 13/50\n",
      "10/10 [==============================] - 1s 122ms/step - loss: 0.0011 - accuracy: 0.9601\n",
      "Epoch 14/50\n",
      "10/10 [==============================] - 1s 122ms/step - loss: 9.2189e-04 - accuracy: 0.9565\n",
      "Epoch 15/50\n",
      "10/10 [==============================] - 1s 122ms/step - loss: 8.6247e-04 - accuracy: 0.9475\n",
      "Epoch 16/50\n",
      "10/10 [==============================] - 1s 121ms/step - loss: 9.5756e-04 - accuracy: 0.9605\n",
      "Epoch 17/50\n",
      "10/10 [==============================] - 1s 122ms/step - loss: 9.7862e-04 - accuracy: 0.9607\n",
      "Epoch 18/50\n",
      "10/10 [==============================] - 1s 121ms/step - loss: 8.0144e-04 - accuracy: 0.9674\n",
      "Epoch 19/50\n",
      "10/10 [==============================] - 1s 122ms/step - loss: 8.7689e-04 - accuracy: 0.9588\n",
      "Epoch 20/50\n",
      "10/10 [==============================] - 1s 122ms/step - loss: 8.9818e-04 - accuracy: 0.9633\n",
      "Epoch 21/50\n",
      "10/10 [==============================] - 1s 121ms/step - loss: 0.0010 - accuracy: 0.9579\n",
      "Epoch 22/50\n",
      "10/10 [==============================] - 1s 124ms/step - loss: 9.2074e-04 - accuracy: 0.9505\n",
      "Epoch 23/50\n",
      "10/10 [==============================] - 1s 122ms/step - loss: 0.0010 - accuracy: 0.9557\n",
      "Epoch 24/50\n",
      "10/10 [==============================] - 1s 122ms/step - loss: 8.4893e-04 - accuracy: 0.9565\n",
      "Epoch 25/50\n",
      "10/10 [==============================] - 1s 123ms/step - loss: 9.4535e-04 - accuracy: 0.9547\n",
      "Epoch 26/50\n",
      "10/10 [==============================] - 1s 122ms/step - loss: 9.6542e-04 - accuracy: 0.9588\n",
      "Epoch 27/50\n",
      "10/10 [==============================] - 1s 122ms/step - loss: 8.4709e-04 - accuracy: 0.9582\n",
      "Epoch 28/50\n",
      "10/10 [==============================] - 1s 122ms/step - loss: 8.7409e-04 - accuracy: 0.9492\n",
      "Epoch 29/50\n",
      "10/10 [==============================] - 1s 122ms/step - loss: 8.4063e-04 - accuracy: 0.9540\n",
      "Epoch 30/50\n",
      "10/10 [==============================] - 1s 121ms/step - loss: 7.9145e-04 - accuracy: 0.9598\n",
      "Epoch 31/50\n",
      "10/10 [==============================] - 1s 121ms/step - loss: 6.6547e-04 - accuracy: 0.9620\n",
      "Epoch 32/50\n",
      "10/10 [==============================] - 1s 122ms/step - loss: 8.5517e-04 - accuracy: 0.9584\n",
      "Epoch 33/50\n",
      "10/10 [==============================] - 1s 122ms/step - loss: 8.3812e-04 - accuracy: 0.9611\n",
      "Epoch 34/50\n",
      "10/10 [==============================] - 1s 122ms/step - loss: 8.8957e-04 - accuracy: 0.9564\n",
      "Epoch 35/50\n",
      "10/10 [==============================] - 1s 122ms/step - loss: 8.2623e-04 - accuracy: 0.9598\n",
      "Epoch 36/50\n",
      "10/10 [==============================] - 1s 121ms/step - loss: 7.8848e-04 - accuracy: 0.9619\n",
      "Epoch 37/50\n",
      "10/10 [==============================] - 1s 122ms/step - loss: 7.2580e-04 - accuracy: 0.9510\n",
      "Epoch 38/50\n",
      "10/10 [==============================] - 1s 122ms/step - loss: 0.0011 - accuracy: 0.9523\n",
      "Epoch 39/50\n",
      "10/10 [==============================] - 1s 122ms/step - loss: 6.6599e-04 - accuracy: 0.9559\n",
      "Epoch 40/50\n",
      "10/10 [==============================] - 1s 122ms/step - loss: 0.0010 - accuracy: 0.9551\n",
      "Epoch 41/50\n",
      "10/10 [==============================] - 1s 122ms/step - loss: 7.4016e-04 - accuracy: 0.9568\n",
      "Epoch 42/50\n",
      "10/10 [==============================] - 1s 122ms/step - loss: 7.6442e-04 - accuracy: 0.9571\n",
      "Epoch 43/50\n",
      "10/10 [==============================] - 1s 122ms/step - loss: 9.0989e-04 - accuracy: 0.9535\n",
      "Epoch 44/50\n",
      "10/10 [==============================] - 1s 122ms/step - loss: 9.1640e-04 - accuracy: 0.9545\n",
      "Epoch 45/50\n",
      "10/10 [==============================] - 1s 123ms/step - loss: 8.2126e-04 - accuracy: 0.9626\n",
      "Epoch 46/50\n",
      "10/10 [==============================] - 1s 121ms/step - loss: 7.6611e-04 - accuracy: 0.9613\n",
      "Epoch 47/50\n",
      "10/10 [==============================] - 1s 126ms/step - loss: 7.6544e-04 - accuracy: 0.9638\n",
      "Epoch 48/50\n",
      "10/10 [==============================] - 1s 123ms/step - loss: 8.8493e-04 - accuracy: 0.9573\n",
      "Epoch 49/50\n",
      "10/10 [==============================] - 1s 122ms/step - loss: 8.9537e-04 - accuracy: 0.9549\n",
      "Epoch 50/50\n",
      "10/10 [==============================] - 1s 123ms/step - loss: 8.1581e-04 - accuracy: 0.9543\n"
     ]
    }
   ],
   "source": [
    "history = duf.fit(generator(\"../data/cut_data4x\",\"../data/cut_data\",batch,besides=ind//2),steps_per_epoch=10, epochs=50, verbose=1)"
   ]
  },
  {
   "cell_type": "code",
   "execution_count": 14,
   "id": "918673df",
   "metadata": {},
   "outputs": [
    {
     "data": {
      "image/png": "[encoded data removed]",
      "text/plain": [
       "<Figure size 432x288 with 1 Axes>"
      ]
     },
     "metadata": {
      "needs_background": "light"
     },
     "output_type": "display_data"
    },
    {
     "data": {
      "image/png": "[encoded data removed]",
      "text/plain": [
       "<Figure size 432x288 with 1 Axes>"
      ]
     },
     "metadata": {
      "needs_background": "light"
     },
     "output_type": "display_data"
    }
   ],
   "source": [
    "# Visualization\n",
    "epochs = 50\n",
    "l = np.array(history.history['loss'])\n",
    "a = np.array(history.history['accuracy'])\n",
    "step = np.linspace(1,epochs,epochs)\n",
    "plt.plot(step,l,label=\"Train Loss\")\n",
    "plt.legend(loc='upper right')\n",
    "plt.title('epoch-loss')\n",
    "plt.xlim((0, epochs))\n",
    "plt.gca().set_ylim(bottom=0)\n",
    "plt.xlabel('epoch')\n",
    "plt.ylabel('loss')\n",
    "plt.savefig('./static/train-loss.png', bbox_inches='tight')\n",
    "plt.show()\n",
    "plt.plot(step,a,label=\"Train Acc\")\n",
    "plt.legend(loc='lower right')\n",
    "plt.title('epoch-acc')\n",
    "plt.xlim((0, epochs))\n",
    "plt.ylim((0.5, 1))\n",
    "plt.xlabel('epoch')\n",
    "plt.ylabel('acc')\n",
    "plt.savefig('./static/train-acc.png', bbox_inches='tight')\n",
    "plt.show()"
   ]
  },
  {
   "cell_type": "code",
   "execution_count": 15,
   "id": "881bbad0",
   "metadata": {},
   "outputs": [],
   "source": [
    "duf.save_weights(\"./model/DUF\")"
   ]
  },
  {
   "cell_type": "code",
   "execution_count": null,
   "id": "e3b94c4e",
   "metadata": {},
   "outputs": [],
   "source": []
  }
 ],
 "metadata": {
  "kernelspec": {
   "display_name": "Python 3",
   "language": "python",
   "name": "python3"
  },
  "language_info": {
   "codemirror_mode": {
    "name": "ipython",
    "version": 3
   },
   "file_extension": ".py",
   "mimetype": "text/x-python",
   "name": "python",
   "nbconvert_exporter": "python",
   "pygments_lexer": "ipython3",
   "version": "3.8.8"
  }
 },
 "nbformat": 4,
 "nbformat_minor": 5
}
