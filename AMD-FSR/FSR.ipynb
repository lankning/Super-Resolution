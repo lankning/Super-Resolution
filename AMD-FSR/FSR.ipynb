{
 "cells": [
  {
   "cell_type": "code",
   "execution_count": 1,
   "id": "7d06925f",
   "metadata": {},
   "outputs": [],
   "source": [
    "import tensorflow as tf\n",
    "# tf.config.experimental_run_functions_eagerly(True)\n",
    "# tf.config.run_functions_eagerly(True)\n",
    "from PIL import Image\n",
    "import numpy as np\n",
    "from utils import *\n",
    "import matplotlib.pyplot as plt\n",
    "import os, random"
   ]
  },
  {
   "cell_type": "code",
   "execution_count": 2,
   "id": "16834e2d",
   "metadata": {},
   "outputs": [
    {
     "name": "stdout",
     "output_type": "stream",
     "text": [
      "find gpus: [PhysicalDevice(name='/physical_device:GPU:0', device_type='GPU')]\n"
     ]
    }
   ],
   "source": [
    "# # Forbidden GPUs\n",
    "# os.environ[\"CUDA_DEVICE_ORDER\"] = \"PCI_BUS_ID\"\n",
    "# os.environ[\"CUDA_VISIBLE_DEVICES\"] = \"-1\"\n",
    "\n",
    "# set gpus memory used by growth\n",
    "gpus = tf.config.experimental.list_physical_devices(device_type='GPU')\n",
    "print(\"find gpus:\",gpus)\n",
    "for gpu in gpus:\n",
    "    tf.config.experimental.set_memory_growth(gpu, True)"
   ]
  },
  {
   "cell_type": "markdown",
   "id": "8221910c",
   "metadata": {},
   "source": [
    "![stru](../docs/DUF/net-stru.png)"
   ]
  },
  {
   "cell_type": "code",
   "execution_count": 3,
   "id": "f586067d",
   "metadata": {},
   "outputs": [],
   "source": [
    "batch = 1\n",
    "ind = 3\n",
    "inh = 90\n",
    "inw = 195\n",
    "inc = 3\n",
    "upscale = 4\n",
    "stp = [[0,0], [1,1], [1,1], [1,1], [0,0]]\n",
    "sp = [[0,0], [0,0], [1,1], [1,1], [0,0]]"
   ]
  },
  {
   "cell_type": "code",
   "execution_count": 4,
   "id": "5bd1620c",
   "metadata": {},
   "outputs": [],
   "source": [
    "class FSR(tf.keras.models.Model):\n",
    "    def __init__(self,upscale):\n",
    "        # 调用父类__init__()方法\n",
    "        super(FSR, self).__init__()\n",
    "        self.conv2d_1 = tf.keras.layers.Conv2D(48, 3, strides=1, padding='same', activation=None, name=\"linear_conv1\")\n",
    "        self.conv2d_2 = tf.keras.layers.Conv2D(48, 3, strides=1, padding='same', activation='tanh', name=\"nonlinear_conv1\")\n",
    "        self.conv2d_3 = tf.keras.layers.Conv2D(48, 48, strides=1, padding='same', activation='tanh', name=\"nonlinear_conv2\")\n",
    "        self.conv2d_4 = tf.keras.layers.Conv2D(48, 48, strides=1, padding='same', activation='tanh', name=\"nonlinear_conv3\")\n",
    "        self.conv2d_5 = tf.keras.layers.Conv2D(48, 3*upscale*upscale, strides=1, padding='same', activation=None, name=\"conv\")\n",
    "        self.r = upscale\n",
    "        #print(\"Model inited.\")\n",
    "\n",
    "    def call(self, inputs):\n",
    "        linear_conv = self.conv2d_1(inputs)\n",
    "        nonlinear_conv = self.conv2d_2(inputs)\n",
    "        nonlinear_conv = self.conv2d_3(nonlinear_conv)\n",
    "        nonlinear_conv = self.conv2d_4(nonlinear_conv)\n",
    "        fea = linear_conv + nonlinear_conv\n",
    "        fea = self.conv2d_5(fea)\n",
    "        xc = []\n",
    "        for c in range(3):\n",
    "            t = fea[:,:,:,c*self.r*self.r:c*self.r*self.r+self.r*self.r] # [B,H,W,R*R]\n",
    "            t = tf.compat.v1.depth_to_space(t, self.r) # [B,H*R,W*R,1]\n",
    "            xc += [t]\n",
    "        x = tf.concat(xc, axis=3)   # [B,H*R,W*R,3]\n",
    "        return x"
   ]
  },
  {
   "cell_type": "code",
   "execution_count": 5,
   "id": "1d208b9b",
   "metadata": {},
   "outputs": [
    {
     "name": "stdout",
     "output_type": "stream",
     "text": [
      "Model: \"fsr\"\n",
      "_________________________________________________________________\n",
      "Layer (type)                 Output Shape              Param #   \n",
      "=================================================================\n",
      "linear_conv1 (Conv2D)        multiple                  1344      \n",
      "_________________________________________________________________\n",
      "nonlinear_conv1 (Conv2D)     multiple                  1344      \n",
      "_________________________________________________________________\n",
      "nonlinear_conv2 (Conv2D)     multiple                  5308464   \n",
      "_________________________________________________________________\n",
      "nonlinear_conv3 (Conv2D)     multiple                  5308464   \n",
      "_________________________________________________________________\n",
      "conv (Conv2D)                multiple                  5308464   \n",
      "=================================================================\n",
      "Total params: 15,928,080\n",
      "Trainable params: 15,928,080\n",
      "Non-trainable params: 0\n",
      "_________________________________________________________________\n",
      "None\n"
     ]
    }
   ],
   "source": [
    "fsr = FSR(upscale)\n",
    "fsr.build(input_shape=(batch,inh,inw,inc))\n",
    "print(fsr.summary())"
   ]
  },
  {
   "cell_type": "code",
   "execution_count": 6,
   "id": "336fb0b0",
   "metadata": {},
   "outputs": [],
   "source": [
    "def Huber(y_true, y_pred, delta=0.1, axis=None):\n",
    "    abs_error = tf.abs(y_pred - y_true)\n",
    "    quadratic = tf.minimum(abs_error, delta)\n",
    "    # The following expression is the same in value as\n",
    "    # tf.maximum(abs_error - delta, 0), but importantly the gradient for the\n",
    "    # expression when abs_error == delta is 0 (for tf.maximum it would be 1).\n",
    "    # This is necessary to avoid doubling the gradient, since there is already a\n",
    "    # nonzero contribution to the gradient from the quadratic term.\n",
    "    linear = (abs_error - quadratic)\n",
    "    losses = 0.5 * quadratic**2 + delta * linear\n",
    "    return tf.reduce_mean(losses, axis=axis)"
   ]
  },
  {
   "cell_type": "code",
   "execution_count": 7,
   "id": "f2da1dc9",
   "metadata": {},
   "outputs": [],
   "source": [
    "fsr.compile(optimizer='adam',\n",
    "              loss=Huber,\n",
    "              metrics=['accuracy'])"
   ]
  },
  {
   "cell_type": "code",
   "execution_count": 8,
   "id": "47d92bbc",
   "metadata": {},
   "outputs": [],
   "source": [
    "def generator(inpath,outpath,batch_size,reshuffle_each_iteration=False):\n",
    "    # read and sort train data from dir\n",
    "    x_train_lr_list = os.listdir(inpath)\n",
    "    x_train_lr_list.sort(key=lambda x:int(x[5:-4]))#倒着数第四位'.'为分界线，按照‘.’左边的数字从小到大排序\n",
    "    x_train_lr_list = [os.path.join(inpath,c) for c in x_train_lr_list]\n",
    "    y_train_list = os.listdir(outpath)\n",
    "    y_train_list.sort(key=lambda x:int(x[5:-4]))\n",
    "    y_train_list = [os.path.join(outpath,c) for c in y_train_list]\n",
    "    i = 0\n",
    "    while True:\n",
    "        x_train_lr, y_train = loadimgs_from_paths(\n",
    "            x_train_lr_list[i*batch_size:(i+1)*batch_size], y_train_list[i*batch_size:(i+1)*batch_size])\n",
    "        yield np.float32(x_train_lr/255), np.float32(y_train/255)\n",
    "        i = (i+1) % (len(x_train_lr_list) // batch_size)\n",
    "        # print(len(x_train_lr_list) // batch_size)\n",
    "        if reshuffle_each_iteration:\n",
    "            if i == 0:\n",
    "                paths = list(zip(x_train_lr_list, y_train_list))\n",
    "                random.shuffle(paths)\n",
    "                x_train_lr_list, y_train_list = zip(*paths)"
   ]
  },
  {
   "cell_type": "code",
   "execution_count": 9,
   "id": "eb9c9147",
   "metadata": {
    "scrolled": true
   },
   "outputs": [
    {
     "name": "stdout",
     "output_type": "stream",
     "text": [
      "Epoch 1/50\n",
      "10/10 [==============================] - 1s 67ms/step - loss: 2.5323 - accuracy: 0.3052\n",
      "Epoch 2/50\n",
      "10/10 [==============================] - 1s 68ms/step - loss: 1.5435 - accuracy: 0.3092\n",
      "Epoch 3/50\n",
      "10/10 [==============================] - 1s 68ms/step - loss: 0.5622 - accuracy: 0.3097\n",
      "Epoch 4/50\n",
      "10/10 [==============================] - 1s 68ms/step - loss: 0.5040 - accuracy: 0.3193\n",
      "Epoch 5/50\n",
      "10/10 [==============================] - 1s 68ms/step - loss: 0.4586 - accuracy: 0.3350\n",
      "Epoch 6/50\n",
      "10/10 [==============================] - 1s 67ms/step - loss: 0.3844 - accuracy: 0.3419\n",
      "Epoch 7/50\n",
      "10/10 [==============================] - 1s 67ms/step - loss: 0.3641 - accuracy: 0.3308\n",
      "Epoch 8/50\n",
      "10/10 [==============================] - 1s 67ms/step - loss: 0.3585 - accuracy: 0.3375\n",
      "Epoch 9/50\n",
      "10/10 [==============================] - 1s 68ms/step - loss: 0.3520 - accuracy: 0.3471\n",
      "Epoch 10/50\n",
      "10/10 [==============================] - 1s 67ms/step - loss: 0.3856 - accuracy: 0.3752\n",
      "Epoch 11/50\n",
      "10/10 [==============================] - 1s 68ms/step - loss: 0.3817 - accuracy: 0.3361\n",
      "Epoch 12/50\n",
      "10/10 [==============================] - 1s 69ms/step - loss: 0.3521 - accuracy: 0.3504\n",
      "Epoch 13/50\n",
      "10/10 [==============================] - 1s 70ms/step - loss: 0.3196 - accuracy: 0.3584\n",
      "Epoch 14/50\n",
      "10/10 [==============================] - 1s 68ms/step - loss: 0.3000 - accuracy: 0.3241\n",
      "Epoch 15/50\n",
      "10/10 [==============================] - 1s 69ms/step - loss: 0.2528 - accuracy: 0.3190\n",
      "Epoch 16/50\n",
      "10/10 [==============================] - 1s 69ms/step - loss: 0.2828 - accuracy: 0.3193\n",
      "Epoch 17/50\n",
      "10/10 [==============================] - 1s 69ms/step - loss: 0.2881 - accuracy: 0.3504\n",
      "Epoch 18/50\n",
      "10/10 [==============================] - 1s 69ms/step - loss: 0.2389 - accuracy: 0.3280\n",
      "Epoch 19/50\n",
      "10/10 [==============================] - 1s 69ms/step - loss: 0.2276 - accuracy: 0.3329\n",
      "Epoch 20/50\n",
      "10/10 [==============================] - 1s 64ms/step - loss: 0.1867 - accuracy: 0.3466\n",
      "Epoch 21/50\n",
      "10/10 [==============================] - 1s 69ms/step - loss: 0.1588 - accuracy: 0.3356\n",
      "Epoch 22/50\n",
      "10/10 [==============================] - 1s 64ms/step - loss: 0.1458 - accuracy: 0.3435\n",
      "Epoch 23/50\n",
      "10/10 [==============================] - 1s 65ms/step - loss: 0.1692 - accuracy: 0.3188\n",
      "Epoch 24/50\n",
      "10/10 [==============================] - 1s 66ms/step - loss: 0.1786 - accuracy: 0.3337\n",
      "Epoch 25/50\n",
      "10/10 [==============================] - 1s 64ms/step - loss: 0.2792 - accuracy: 0.3314\n",
      "Epoch 26/50\n",
      "10/10 [==============================] - 1s 69ms/step - loss: 0.2574 - accuracy: 0.3356\n",
      "Epoch 27/50\n",
      "10/10 [==============================] - 1s 66ms/step - loss: 0.1912 - accuracy: 0.3369\n",
      "Epoch 28/50\n",
      "10/10 [==============================] - 1s 62ms/step - loss: 0.1507 - accuracy: 0.3513\n",
      "Epoch 29/50\n",
      "10/10 [==============================] - 1s 63ms/step - loss: 0.3828 - accuracy: 0.3367\n",
      "Epoch 30/50\n",
      "10/10 [==============================] - 1s 63ms/step - loss: 0.2446 - accuracy: 0.3490\n",
      "Epoch 31/50\n",
      "10/10 [==============================] - 1s 69ms/step - loss: 0.1649 - accuracy: 0.3467\n",
      "Epoch 32/50\n",
      "10/10 [==============================] - 1s 62ms/step - loss: 0.1361 - accuracy: 0.3421\n",
      "Epoch 33/50\n",
      "10/10 [==============================] - 1s 67ms/step - loss: 0.1193 - accuracy: 0.3619\n",
      "Epoch 34/50\n",
      "10/10 [==============================] - 1s 69ms/step - loss: 0.1202 - accuracy: 0.3564\n",
      "Epoch 35/50\n",
      "10/10 [==============================] - 1s 69ms/step - loss: 0.1220 - accuracy: 0.3497\n",
      "Epoch 36/50\n",
      "10/10 [==============================] - 1s 69ms/step - loss: 0.0832 - accuracy: 0.3737\n",
      "Epoch 37/50\n",
      "10/10 [==============================] - 1s 70ms/step - loss: 0.0604 - accuracy: 0.3430\n",
      "Epoch 38/50\n",
      "10/10 [==============================] - 1s 69ms/step - loss: 0.0709 - accuracy: 0.3618\n",
      "Epoch 39/50\n",
      "10/10 [==============================] - 1s 70ms/step - loss: 0.0594 - accuracy: 0.3739\n",
      "Epoch 40/50\n",
      "10/10 [==============================] - 1s 70ms/step - loss: 0.0442 - accuracy: 0.3713\n",
      "Epoch 41/50\n",
      "10/10 [==============================] - 1s 69ms/step - loss: 0.0427 - accuracy: 0.4057\n",
      "Epoch 42/50\n",
      "10/10 [==============================] - 1s 70ms/step - loss: 0.0494 - accuracy: 0.3788\n",
      "Epoch 43/50\n",
      "10/10 [==============================] - 1s 70ms/step - loss: 0.0684 - accuracy: 0.3814\n",
      "Epoch 44/50\n",
      "10/10 [==============================] - 1s 69ms/step - loss: 0.0598 - accuracy: 0.3695\n",
      "Epoch 45/50\n",
      "10/10 [==============================] - 1s 69ms/step - loss: 0.0559 - accuracy: 0.3719\n",
      "Epoch 46/50\n",
      "10/10 [==============================] - 1s 69ms/step - loss: 0.0581 - accuracy: 0.3612\n",
      "Epoch 47/50\n",
      "10/10 [==============================] - 1s 69ms/step - loss: 0.0815 - accuracy: 0.3611\n",
      "Epoch 48/50\n",
      "10/10 [==============================] - 1s 70ms/step - loss: 0.0973 - accuracy: 0.3479\n",
      "Epoch 49/50\n",
      "10/10 [==============================] - 1s 70ms/step - loss: 0.1634 - accuracy: 0.3382\n",
      "Epoch 50/50\n",
      "10/10 [==============================] - 1s 70ms/step - loss: 0.1584 - accuracy: 0.3433\n"
     ]
    }
   ],
   "source": [
    "history = fsr.fit(generator(\"../data/cut_data4x\",\"../data/cut_data\",batch),steps_per_epoch=10, epochs=50, verbose=1)"
   ]
  },
  {
   "cell_type": "code",
   "execution_count": 10,
   "id": "2ecc39d1",
   "metadata": {},
   "outputs": [
    {
     "data": {
      "image/png": "[encoded data removed]",
      "text/plain": [
       "<Figure size 432x288 with 1 Axes>"
      ]
     },
     "metadata": {
      "needs_background": "light"
     },
     "output_type": "display_data"
    },
    {
     "data": {
      "image/png": "[encoded data removed]",
      "text/plain": [
       "<Figure size 432x288 with 1 Axes>"
      ]
     },
     "metadata": {
      "needs_background": "light"
     },
     "output_type": "display_data"
    }
   ],
   "source": [
    "# Visualization\n",
    "epochs = 50\n",
    "l = np.array(history.history['loss'])\n",
    "a = np.array(history.history['accuracy'])\n",
    "step = np.linspace(1,epochs,epochs)\n",
    "plt.plot(step,l,label=\"Train Loss\")\n",
    "plt.legend(loc='upper right')\n",
    "plt.title('epoch-loss')\n",
    "plt.xlim((0, epochs))\n",
    "plt.gca().set_ylim(bottom=0)\n",
    "plt.xlabel('epoch')\n",
    "plt.ylabel('loss')\n",
    "plt.savefig('./train-loss.png', bbox_inches='tight')\n",
    "plt.show()\n",
    "plt.plot(step,a,label=\"Train Acc\")\n",
    "plt.legend(loc='lower right')\n",
    "plt.title('epoch-acc')\n",
    "plt.xlim((0, epochs))\n",
    "plt.ylim((0.5, 1))\n",
    "plt.xlabel('epoch')\n",
    "plt.ylabel('acc')\n",
    "plt.savefig('./train-acc.png', bbox_inches='tight')\n",
    "plt.show()"
   ]
  },
  {
   "cell_type": "code",
   "execution_count": 12,
   "id": "712a8819",
   "metadata": {},
   "outputs": [],
   "source": [
    "fsr.save_weights(\"./model/fsr\")"
   ]
  },
  {
   "cell_type": "code",
   "execution_count": null,
   "id": "fdd2a650",
   "metadata": {},
   "outputs": [],
   "source": []
  }
 ],
 "metadata": {
  "kernelspec": {
   "display_name": "Python 3",
   "language": "python",
   "name": "python3"
  },
  "language_info": {
   "codemirror_mode": {
    "name": "ipython",
    "version": 3
   },
   "file_extension": ".py",
   "mimetype": "text/x-python",
   "name": "python",
   "nbconvert_exporter": "python",
   "pygments_lexer": "ipython3",
   "version": "3.8.8"
  }
 },
 "nbformat": 4,
 "nbformat_minor": 5
}
